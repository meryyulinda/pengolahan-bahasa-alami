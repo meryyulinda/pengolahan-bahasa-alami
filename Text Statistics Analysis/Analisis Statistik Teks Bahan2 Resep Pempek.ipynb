{
  "cells": [
    {
      "cell_type": "markdown",
      "metadata": {
        "id": "HnCixdYT2Vla"
      },
      "source": [
        "## **Import Statements**"
      ]
    },
    {
      "cell_type": "code",
      "source": [
        "pip install PySastrawi"
      ],
      "metadata": {
        "colab": {
          "base_uri": "https://localhost:8080/"
        },
        "id": "smWrhssz490J",
        "outputId": "f66ee461-e780-4705-a091-ab5d9a7c4572"
      },
      "execution_count": null,
      "outputs": [
        {
          "output_type": "stream",
          "name": "stdout",
          "text": [
            "Looking in indexes: https://pypi.org/simple, https://us-python.pkg.dev/colab-wheels/public/simple/\n",
            "Collecting PySastrawi\n",
            "  Downloading PySastrawi-1.2.0-py2.py3-none-any.whl (210 kB)\n",
            "\u001b[K     |████████████████████████████████| 210 kB 4.4 MB/s \n",
            "\u001b[?25hInstalling collected packages: PySastrawi\n",
            "Successfully installed PySastrawi-1.2.0\n"
          ]
        }
      ]
    },
    {
      "cell_type": "code",
      "source": [
        "import nltk\n",
        "nltk.download('stopwords')"
      ],
      "metadata": {
        "colab": {
          "base_uri": "https://localhost:8080/"
        },
        "id": "NhqzpekC3bAC",
        "outputId": "27ee61d2-08d0-40a7-fdd1-d51de52f647b"
      },
      "execution_count": null,
      "outputs": [
        {
          "output_type": "stream",
          "name": "stderr",
          "text": [
            "[nltk_data] Downloading package stopwords to /root/nltk_data...\n",
            "[nltk_data]   Unzipping corpora/stopwords.zip.\n"
          ]
        },
        {
          "output_type": "execute_result",
          "data": {
            "text/plain": [
              "True"
            ]
          },
          "metadata": {},
          "execution_count": 6
        }
      ]
    },
    {
      "cell_type": "code",
      "execution_count": null,
      "metadata": {
        "_cell_guid": "01c9209f-c439-4c69-90fd-205c4a4dcd92",
        "_uuid": "e69de2804383f8ecf5393b06b6f0eb0f28baebbb",
        "collapsed": true,
        "id": "zaeYSW8w2Vli"
      },
      "outputs": [],
      "source": [
        "import numpy as np\n",
        "import pandas as pd\n",
        "from sklearn import preprocessing\n",
        "from sklearn.feature_extraction.text import CountVectorizer, TfidfVectorizer\n",
        "from sklearn.model_selection import train_test_split, KFold\n",
        "from nltk.corpus import stopwords\n",
        "#from Sastrawi.Stemmer.StemmerFactory import StemmerFactory\n",
        "import json\n",
        "import matplotlib\n",
        "from matplotlib import pyplot as plt\n",
        "# import seaborn as sns\n",
        "%matplotlib inline\n",
        "%config InlineBackend.figure_format = 'retina'"
      ]
    },
    {
      "cell_type": "markdown",
      "metadata": {
        "id": "AAsUZzt62Vlm"
      },
      "source": [
        "# **Loading and inspecting data**"
      ]
    },
    {
      "cell_type": "markdown",
      "metadata": {
        "id": "tDSmte8z2Vln"
      },
      "source": [
        "Reading the data\n",
        "\n",
        "Dataset: https://drive.google.com/file/d/1Gb0dRkWJNceJdpiF1Cl9Yfgn9w2efeWj/view?usp=share_link"
      ]
    },
    {
      "cell_type": "code",
      "execution_count": null,
      "metadata": {
        "_cell_guid": "b6f79fa1-2835-41f7-bb7b-4e064f1577fb",
        "_uuid": "bf9032ed06694055aa69c0348ce3e83980dac41d",
        "collapsed": true,
        "id": "GK8axeB_2Vlo"
      },
      "outputs": [],
      "source": [
        "data = pd.read_csv(\"kumpresep_bahan.csv\", delimiter=';')"
      ]
    },
    {
      "cell_type": "markdown",
      "metadata": {
        "id": "8XTSaCIg2Vlq"
      },
      "source": [
        "Displaying the head of the data"
      ]
    },
    {
      "cell_type": "code",
      "execution_count": null,
      "metadata": {
        "_cell_guid": "b68d74a0-0d6d-4d72-859f-cfeab9d9ee59",
        "_uuid": "7c9accf9d18b1c4c5aa5910ed81cb427db3ce393",
        "colab": {
          "base_uri": "https://localhost:8080/",
          "height": 520
        },
        "id": "fUDdYb4h2Vlr",
        "outputId": "0da78376-bb14-4d34-a280-760a53832dee"
      },
      "outputs": [
        {
          "output_type": "execute_result",
          "data": {
            "text/plain": [
              "    id                                               text asal_pempek  \\\n",
              "0    1  500 gr daging ikan tenggiri 600 gr tepung tapi...   Palembang   \n",
              "1    2  125 gr tepung terigu 250 gr tepung sagu 3 sdm ...   Palembang   \n",
              "2    3  250 ml putih telur 125 gr tepung tapioka 1/2 s...   Palembang   \n",
              "3    4  1 kg daging ikan tenggiri giling 650 gram tepu...   Palembang   \n",
              "4    5  Bahan adonan pempek: 500 gr daging ikan tenggi...   Palembang   \n",
              "5    6  0,5 kg Ikan tenggiri giling 300 gram sagu secu...      Bangka   \n",
              "6    7  1/2 kg ikan, saya Pakai Ikan Kakap, Haluskan 3...      Bangka   \n",
              "7    8  Secukupnya Baso Udang Secukupnya minyak goreng...      Bangka   \n",
              "8    9  500 gr daging tenggiri giling 380 ml air 450 g...      Bangka   \n",
              "9   10  250 gram fillet ikan tenggiri 225 gram tepung ...      Bangka   \n",
              "10  11  100 gr tepung terigu 100 gr tepung tapioka 10 ...       Jambi   \n",
              "11  12  Bahan biang 100 gr tepung terigu 250 ml air 1 ...       Jambi   \n",
              "12  13  Bahan Pempek: 100 gr tepung sagu 100 gr tepung...       Jambi   \n",
              "13  14  Bahan pempek 100 gr tepung sagu 100 gr tepung ...       Jambi   \n",
              "14  15  250 gr Tepung Terigu 250 gr Tepung Sagu 2-3 ge...       Jambi   \n",
              "\n",
              "                                                  url  \n",
              "0   https://www.viva.co.id/gaya-hidup/kuliner/1485...  \n",
              "1   https://www.viva.co.id/gaya-hidup/kuliner/1485...  \n",
              "2   https://www.viva.co.id/gaya-hidup/kuliner/1485...  \n",
              "3   https://www.viva.co.id/gaya-hidup/kuliner/1485...  \n",
              "4   https://www.viva.co.id/gaya-hidup/kuliner/1485...  \n",
              "5   https://cookpad.com/id/resep/15363024-pempek-b...  \n",
              "6   https://cookpad.com/id/resep/15540162-pempek-b...  \n",
              "7   https://cookpad.com/id/resep/16039341-pempek-u...  \n",
              "8   https://cookpad.com/id/resep/12352974-pempek-b...  \n",
              "9   https://www.merdeka.com/gaya/resep-pempek-rebu...  \n",
              "10  https://cookpad.com/id/resep/12382660-pempek-s...  \n",
              "11  https://cookpad.com/id/resep/12947116-41-pempe...  \n",
              "12  https://cookpad.com/id/resep/13193015-pempek-s...  \n",
              "13  https://cookpad.com/id/resep/16152345-13-pempe...  \n",
              "14  https://cookpad.com/id/resep/5278752-pempek-sa...  "
            ],
            "text/html": [
              "\n",
              "  <div id=\"df-66d9d3e4-1dc0-448f-85e3-aac72a086cc8\">\n",
              "    <div class=\"colab-df-container\">\n",
              "      <div>\n",
              "<style scoped>\n",
              "    .dataframe tbody tr th:only-of-type {\n",
              "        vertical-align: middle;\n",
              "    }\n",
              "\n",
              "    .dataframe tbody tr th {\n",
              "        vertical-align: top;\n",
              "    }\n",
              "\n",
              "    .dataframe thead th {\n",
              "        text-align: right;\n",
              "    }\n",
              "</style>\n",
              "<table border=\"1\" class=\"dataframe\">\n",
              "  <thead>\n",
              "    <tr style=\"text-align: right;\">\n",
              "      <th></th>\n",
              "      <th>id</th>\n",
              "      <th>text</th>\n",
              "      <th>asal_pempek</th>\n",
              "      <th>url</th>\n",
              "    </tr>\n",
              "  </thead>\n",
              "  <tbody>\n",
              "    <tr>\n",
              "      <th>0</th>\n",
              "      <td>1</td>\n",
              "      <td>500 gr daging ikan tenggiri 600 gr tepung tapi...</td>\n",
              "      <td>Palembang</td>\n",
              "      <td>https://www.viva.co.id/gaya-hidup/kuliner/1485...</td>\n",
              "    </tr>\n",
              "    <tr>\n",
              "      <th>1</th>\n",
              "      <td>2</td>\n",
              "      <td>125 gr tepung terigu 250 gr tepung sagu 3 sdm ...</td>\n",
              "      <td>Palembang</td>\n",
              "      <td>https://www.viva.co.id/gaya-hidup/kuliner/1485...</td>\n",
              "    </tr>\n",
              "    <tr>\n",
              "      <th>2</th>\n",
              "      <td>3</td>\n",
              "      <td>250 ml putih telur 125 gr tepung tapioka 1/2 s...</td>\n",
              "      <td>Palembang</td>\n",
              "      <td>https://www.viva.co.id/gaya-hidup/kuliner/1485...</td>\n",
              "    </tr>\n",
              "    <tr>\n",
              "      <th>3</th>\n",
              "      <td>4</td>\n",
              "      <td>1 kg daging ikan tenggiri giling 650 gram tepu...</td>\n",
              "      <td>Palembang</td>\n",
              "      <td>https://www.viva.co.id/gaya-hidup/kuliner/1485...</td>\n",
              "    </tr>\n",
              "    <tr>\n",
              "      <th>4</th>\n",
              "      <td>5</td>\n",
              "      <td>Bahan adonan pempek: 500 gr daging ikan tenggi...</td>\n",
              "      <td>Palembang</td>\n",
              "      <td>https://www.viva.co.id/gaya-hidup/kuliner/1485...</td>\n",
              "    </tr>\n",
              "    <tr>\n",
              "      <th>5</th>\n",
              "      <td>6</td>\n",
              "      <td>0,5 kg Ikan tenggiri giling 300 gram sagu secu...</td>\n",
              "      <td>Bangka</td>\n",
              "      <td>https://cookpad.com/id/resep/15363024-pempek-b...</td>\n",
              "    </tr>\n",
              "    <tr>\n",
              "      <th>6</th>\n",
              "      <td>7</td>\n",
              "      <td>1/2 kg ikan, saya Pakai Ikan Kakap, Haluskan 3...</td>\n",
              "      <td>Bangka</td>\n",
              "      <td>https://cookpad.com/id/resep/15540162-pempek-b...</td>\n",
              "    </tr>\n",
              "    <tr>\n",
              "      <th>7</th>\n",
              "      <td>8</td>\n",
              "      <td>Secukupnya Baso Udang Secukupnya minyak goreng...</td>\n",
              "      <td>Bangka</td>\n",
              "      <td>https://cookpad.com/id/resep/16039341-pempek-u...</td>\n",
              "    </tr>\n",
              "    <tr>\n",
              "      <th>8</th>\n",
              "      <td>9</td>\n",
              "      <td>500 gr daging tenggiri giling 380 ml air 450 g...</td>\n",
              "      <td>Bangka</td>\n",
              "      <td>https://cookpad.com/id/resep/12352974-pempek-b...</td>\n",
              "    </tr>\n",
              "    <tr>\n",
              "      <th>9</th>\n",
              "      <td>10</td>\n",
              "      <td>250 gram fillet ikan tenggiri 225 gram tepung ...</td>\n",
              "      <td>Bangka</td>\n",
              "      <td>https://www.merdeka.com/gaya/resep-pempek-rebu...</td>\n",
              "    </tr>\n",
              "    <tr>\n",
              "      <th>10</th>\n",
              "      <td>11</td>\n",
              "      <td>100 gr tepung terigu 100 gr tepung tapioka 10 ...</td>\n",
              "      <td>Jambi</td>\n",
              "      <td>https://cookpad.com/id/resep/12382660-pempek-s...</td>\n",
              "    </tr>\n",
              "    <tr>\n",
              "      <th>11</th>\n",
              "      <td>12</td>\n",
              "      <td>Bahan biang 100 gr tepung terigu 250 ml air 1 ...</td>\n",
              "      <td>Jambi</td>\n",
              "      <td>https://cookpad.com/id/resep/12947116-41-pempe...</td>\n",
              "    </tr>\n",
              "    <tr>\n",
              "      <th>12</th>\n",
              "      <td>13</td>\n",
              "      <td>Bahan Pempek: 100 gr tepung sagu 100 gr tepung...</td>\n",
              "      <td>Jambi</td>\n",
              "      <td>https://cookpad.com/id/resep/13193015-pempek-s...</td>\n",
              "    </tr>\n",
              "    <tr>\n",
              "      <th>13</th>\n",
              "      <td>14</td>\n",
              "      <td>Bahan pempek 100 gr tepung sagu 100 gr tepung ...</td>\n",
              "      <td>Jambi</td>\n",
              "      <td>https://cookpad.com/id/resep/16152345-13-pempe...</td>\n",
              "    </tr>\n",
              "    <tr>\n",
              "      <th>14</th>\n",
              "      <td>15</td>\n",
              "      <td>250 gr Tepung Terigu 250 gr Tepung Sagu 2-3 ge...</td>\n",
              "      <td>Jambi</td>\n",
              "      <td>https://cookpad.com/id/resep/5278752-pempek-sa...</td>\n",
              "    </tr>\n",
              "  </tbody>\n",
              "</table>\n",
              "</div>\n",
              "      <button class=\"colab-df-convert\" onclick=\"convertToInteractive('df-66d9d3e4-1dc0-448f-85e3-aac72a086cc8')\"\n",
              "              title=\"Convert this dataframe to an interactive table.\"\n",
              "              style=\"display:none;\">\n",
              "        \n",
              "  <svg xmlns=\"http://www.w3.org/2000/svg\" height=\"24px\"viewBox=\"0 0 24 24\"\n",
              "       width=\"24px\">\n",
              "    <path d=\"M0 0h24v24H0V0z\" fill=\"none\"/>\n",
              "    <path d=\"M18.56 5.44l.94 2.06.94-2.06 2.06-.94-2.06-.94-.94-2.06-.94 2.06-2.06.94zm-11 1L8.5 8.5l.94-2.06 2.06-.94-2.06-.94L8.5 2.5l-.94 2.06-2.06.94zm10 10l.94 2.06.94-2.06 2.06-.94-2.06-.94-.94-2.06-.94 2.06-2.06.94z\"/><path d=\"M17.41 7.96l-1.37-1.37c-.4-.4-.92-.59-1.43-.59-.52 0-1.04.2-1.43.59L10.3 9.45l-7.72 7.72c-.78.78-.78 2.05 0 2.83L4 21.41c.39.39.9.59 1.41.59.51 0 1.02-.2 1.41-.59l7.78-7.78 2.81-2.81c.8-.78.8-2.07 0-2.86zM5.41 20L4 18.59l7.72-7.72 1.47 1.35L5.41 20z\"/>\n",
              "  </svg>\n",
              "      </button>\n",
              "      \n",
              "  <style>\n",
              "    .colab-df-container {\n",
              "      display:flex;\n",
              "      flex-wrap:wrap;\n",
              "      gap: 12px;\n",
              "    }\n",
              "\n",
              "    .colab-df-convert {\n",
              "      background-color: #E8F0FE;\n",
              "      border: none;\n",
              "      border-radius: 50%;\n",
              "      cursor: pointer;\n",
              "      display: none;\n",
              "      fill: #1967D2;\n",
              "      height: 32px;\n",
              "      padding: 0 0 0 0;\n",
              "      width: 32px;\n",
              "    }\n",
              "\n",
              "    .colab-df-convert:hover {\n",
              "      background-color: #E2EBFA;\n",
              "      box-shadow: 0px 1px 2px rgba(60, 64, 67, 0.3), 0px 1px 3px 1px rgba(60, 64, 67, 0.15);\n",
              "      fill: #174EA6;\n",
              "    }\n",
              "\n",
              "    [theme=dark] .colab-df-convert {\n",
              "      background-color: #3B4455;\n",
              "      fill: #D2E3FC;\n",
              "    }\n",
              "\n",
              "    [theme=dark] .colab-df-convert:hover {\n",
              "      background-color: #434B5C;\n",
              "      box-shadow: 0px 1px 3px 1px rgba(0, 0, 0, 0.15);\n",
              "      filter: drop-shadow(0px 1px 2px rgba(0, 0, 0, 0.3));\n",
              "      fill: #FFFFFF;\n",
              "    }\n",
              "  </style>\n",
              "\n",
              "      <script>\n",
              "        const buttonEl =\n",
              "          document.querySelector('#df-66d9d3e4-1dc0-448f-85e3-aac72a086cc8 button.colab-df-convert');\n",
              "        buttonEl.style.display =\n",
              "          google.colab.kernel.accessAllowed ? 'block' : 'none';\n",
              "\n",
              "        async function convertToInteractive(key) {\n",
              "          const element = document.querySelector('#df-66d9d3e4-1dc0-448f-85e3-aac72a086cc8');\n",
              "          const dataTable =\n",
              "            await google.colab.kernel.invokeFunction('convertToInteractive',\n",
              "                                                     [key], {});\n",
              "          if (!dataTable) return;\n",
              "\n",
              "          const docLinkHtml = 'Like what you see? Visit the ' +\n",
              "            '<a target=\"_blank\" href=https://colab.research.google.com/notebooks/data_table.ipynb>data table notebook</a>'\n",
              "            + ' to learn more about interactive tables.';\n",
              "          element.innerHTML = '';\n",
              "          dataTable['output_type'] = 'display_data';\n",
              "          await google.colab.output.renderOutput(dataTable, element);\n",
              "          const docLink = document.createElement('div');\n",
              "          docLink.innerHTML = docLinkHtml;\n",
              "          element.appendChild(docLink);\n",
              "        }\n",
              "      </script>\n",
              "    </div>\n",
              "  </div>\n",
              "  "
            ]
          },
          "metadata": {},
          "execution_count": 365
        }
      ],
      "source": [
        "data"
      ]
    },
    {
      "cell_type": "markdown",
      "metadata": {
        "id": "-CG3Xl9A2Vlu"
      },
      "source": [
        "Shape of the data"
      ]
    },
    {
      "cell_type": "code",
      "execution_count": null,
      "metadata": {
        "_cell_guid": "72d28e14-9b17-4fc8-8767-ff2f2e42a9af",
        "_uuid": "01ba1c4d1b23a52f5e58590284e51e572da27121",
        "colab": {
          "base_uri": "https://localhost:8080/"
        },
        "id": "aKhHk-1L2Vlv",
        "outputId": "ce08c3ba-e597-496f-8eef-f6c007908907"
      },
      "outputs": [
        {
          "output_type": "execute_result",
          "data": {
            "text/plain": [
              "(15, 4)"
            ]
          },
          "metadata": {},
          "execution_count": 366
        }
      ],
      "source": [
        "data.shape"
      ]
    },
    {
      "cell_type": "markdown",
      "metadata": {
        "id": "SVOBNp8g2Vl0"
      },
      "source": [
        "# **Feature Engineering**"
      ]
    },
    {
      "cell_type": "markdown",
      "metadata": {
        "id": "hoC0SZAj2Vl1"
      },
      "source": [
        "## **Removing punctuations**"
      ]
    },
    {
      "cell_type": "markdown",
      "metadata": {
        "id": "srduQcv42Vl2"
      },
      "source": [
        "**Funtion to remove punctuation**"
      ]
    },
    {
      "cell_type": "code",
      "execution_count": null,
      "metadata": {
        "_cell_guid": "19f1782b-f6f9-420c-a747-289c45e62687",
        "_uuid": "c1ae99d031c1248cedd74d84699d3c1cc6bd5078",
        "collapsed": true,
        "id": "Vdhvwu722Vl2"
      },
      "outputs": [],
      "source": [
        "def remove_punctuation(text):\n",
        "    '''a function for removing punctuation'''\n",
        "    import string\n",
        "    # replacing the punctuations with an empty space,\n",
        "    # which in effect deletes the punctuation marks\n",
        "    translator = str.maketrans(string.punctuation, ' '*len(string.punctuation))\n",
        "    # return the text stripped of punctuation marks\n",
        "    return text.translate(translator)"
      ]
    },
    {
      "cell_type": "markdown",
      "metadata": {
        "id": "H1cpEEyH2Vl3"
      },
      "source": [
        "**Apply the function to each examples**"
      ]
    },
    {
      "cell_type": "code",
      "execution_count": null,
      "metadata": {
        "_cell_guid": "d2fafe6b-9bf1-4e90-bd25-bb003c29e180",
        "_uuid": "426c5f09a587d9cd04f2159b7111907a0e3a25a1",
        "colab": {
          "base_uri": "https://localhost:8080/",
          "height": 520
        },
        "id": "dGZw4ktz2Vl4",
        "outputId": "0887f381-693e-4612-da68-a6710057edfb"
      },
      "outputs": [
        {
          "output_type": "execute_result",
          "data": {
            "text/plain": [
              "    id                                               text asal_pempek  \\\n",
              "0    1  500 gr daging ikan tenggiri 600 gr tepung tapi...   Palembang   \n",
              "1    2  125 gr tepung terigu 250 gr tepung sagu 3 sdm ...   Palembang   \n",
              "2    3  250 ml putih telur 125 gr tepung tapioka 1 2 s...   Palembang   \n",
              "3    4  1 kg daging ikan tenggiri giling 650 gram tepu...   Palembang   \n",
              "4    5  Bahan adonan pempek  500 gr daging ikan tenggi...   Palembang   \n",
              "5    6  0 5 kg Ikan tenggiri giling 300 gram sagu secu...      Bangka   \n",
              "6    7  1 2 kg ikan  saya Pakai Ikan Kakap  Haluskan 3...      Bangka   \n",
              "7    8  Secukupnya Baso Udang Secukupnya minyak goreng...      Bangka   \n",
              "8    9  500 gr daging tenggiri giling 380 ml air 450 g...      Bangka   \n",
              "9   10  250 gram fillet ikan tenggiri 225 gram tepung ...      Bangka   \n",
              "10  11  100 gr tepung terigu 100 gr tepung tapioka 10 ...       Jambi   \n",
              "11  12  Bahan biang 100 gr tepung terigu 250 ml air 1 ...       Jambi   \n",
              "12  13  Bahan Pempek  100 gr tepung sagu 100 gr tepung...       Jambi   \n",
              "13  14  Bahan pempek 100 gr tepung sagu 100 gr tepung ...       Jambi   \n",
              "14  15  250 gr Tepung Terigu 250 gr Tepung Sagu 2 3 ge...       Jambi   \n",
              "\n",
              "                                                  url  \n",
              "0   https://www.viva.co.id/gaya-hidup/kuliner/1485...  \n",
              "1   https://www.viva.co.id/gaya-hidup/kuliner/1485...  \n",
              "2   https://www.viva.co.id/gaya-hidup/kuliner/1485...  \n",
              "3   https://www.viva.co.id/gaya-hidup/kuliner/1485...  \n",
              "4   https://www.viva.co.id/gaya-hidup/kuliner/1485...  \n",
              "5   https://cookpad.com/id/resep/15363024-pempek-b...  \n",
              "6   https://cookpad.com/id/resep/15540162-pempek-b...  \n",
              "7   https://cookpad.com/id/resep/16039341-pempek-u...  \n",
              "8   https://cookpad.com/id/resep/12352974-pempek-b...  \n",
              "9   https://www.merdeka.com/gaya/resep-pempek-rebu...  \n",
              "10  https://cookpad.com/id/resep/12382660-pempek-s...  \n",
              "11  https://cookpad.com/id/resep/12947116-41-pempe...  \n",
              "12  https://cookpad.com/id/resep/13193015-pempek-s...  \n",
              "13  https://cookpad.com/id/resep/16152345-13-pempe...  \n",
              "14  https://cookpad.com/id/resep/5278752-pempek-sa...  "
            ],
            "text/html": [
              "\n",
              "  <div id=\"df-3e146b24-b345-4b06-8e13-f7726122a348\">\n",
              "    <div class=\"colab-df-container\">\n",
              "      <div>\n",
              "<style scoped>\n",
              "    .dataframe tbody tr th:only-of-type {\n",
              "        vertical-align: middle;\n",
              "    }\n",
              "\n",
              "    .dataframe tbody tr th {\n",
              "        vertical-align: top;\n",
              "    }\n",
              "\n",
              "    .dataframe thead th {\n",
              "        text-align: right;\n",
              "    }\n",
              "</style>\n",
              "<table border=\"1\" class=\"dataframe\">\n",
              "  <thead>\n",
              "    <tr style=\"text-align: right;\">\n",
              "      <th></th>\n",
              "      <th>id</th>\n",
              "      <th>text</th>\n",
              "      <th>asal_pempek</th>\n",
              "      <th>url</th>\n",
              "    </tr>\n",
              "  </thead>\n",
              "  <tbody>\n",
              "    <tr>\n",
              "      <th>0</th>\n",
              "      <td>1</td>\n",
              "      <td>500 gr daging ikan tenggiri 600 gr tepung tapi...</td>\n",
              "      <td>Palembang</td>\n",
              "      <td>https://www.viva.co.id/gaya-hidup/kuliner/1485...</td>\n",
              "    </tr>\n",
              "    <tr>\n",
              "      <th>1</th>\n",
              "      <td>2</td>\n",
              "      <td>125 gr tepung terigu 250 gr tepung sagu 3 sdm ...</td>\n",
              "      <td>Palembang</td>\n",
              "      <td>https://www.viva.co.id/gaya-hidup/kuliner/1485...</td>\n",
              "    </tr>\n",
              "    <tr>\n",
              "      <th>2</th>\n",
              "      <td>3</td>\n",
              "      <td>250 ml putih telur 125 gr tepung tapioka 1 2 s...</td>\n",
              "      <td>Palembang</td>\n",
              "      <td>https://www.viva.co.id/gaya-hidup/kuliner/1485...</td>\n",
              "    </tr>\n",
              "    <tr>\n",
              "      <th>3</th>\n",
              "      <td>4</td>\n",
              "      <td>1 kg daging ikan tenggiri giling 650 gram tepu...</td>\n",
              "      <td>Palembang</td>\n",
              "      <td>https://www.viva.co.id/gaya-hidup/kuliner/1485...</td>\n",
              "    </tr>\n",
              "    <tr>\n",
              "      <th>4</th>\n",
              "      <td>5</td>\n",
              "      <td>Bahan adonan pempek  500 gr daging ikan tenggi...</td>\n",
              "      <td>Palembang</td>\n",
              "      <td>https://www.viva.co.id/gaya-hidup/kuliner/1485...</td>\n",
              "    </tr>\n",
              "    <tr>\n",
              "      <th>5</th>\n",
              "      <td>6</td>\n",
              "      <td>0 5 kg Ikan tenggiri giling 300 gram sagu secu...</td>\n",
              "      <td>Bangka</td>\n",
              "      <td>https://cookpad.com/id/resep/15363024-pempek-b...</td>\n",
              "    </tr>\n",
              "    <tr>\n",
              "      <th>6</th>\n",
              "      <td>7</td>\n",
              "      <td>1 2 kg ikan  saya Pakai Ikan Kakap  Haluskan 3...</td>\n",
              "      <td>Bangka</td>\n",
              "      <td>https://cookpad.com/id/resep/15540162-pempek-b...</td>\n",
              "    </tr>\n",
              "    <tr>\n",
              "      <th>7</th>\n",
              "      <td>8</td>\n",
              "      <td>Secukupnya Baso Udang Secukupnya minyak goreng...</td>\n",
              "      <td>Bangka</td>\n",
              "      <td>https://cookpad.com/id/resep/16039341-pempek-u...</td>\n",
              "    </tr>\n",
              "    <tr>\n",
              "      <th>8</th>\n",
              "      <td>9</td>\n",
              "      <td>500 gr daging tenggiri giling 380 ml air 450 g...</td>\n",
              "      <td>Bangka</td>\n",
              "      <td>https://cookpad.com/id/resep/12352974-pempek-b...</td>\n",
              "    </tr>\n",
              "    <tr>\n",
              "      <th>9</th>\n",
              "      <td>10</td>\n",
              "      <td>250 gram fillet ikan tenggiri 225 gram tepung ...</td>\n",
              "      <td>Bangka</td>\n",
              "      <td>https://www.merdeka.com/gaya/resep-pempek-rebu...</td>\n",
              "    </tr>\n",
              "    <tr>\n",
              "      <th>10</th>\n",
              "      <td>11</td>\n",
              "      <td>100 gr tepung terigu 100 gr tepung tapioka 10 ...</td>\n",
              "      <td>Jambi</td>\n",
              "      <td>https://cookpad.com/id/resep/12382660-pempek-s...</td>\n",
              "    </tr>\n",
              "    <tr>\n",
              "      <th>11</th>\n",
              "      <td>12</td>\n",
              "      <td>Bahan biang 100 gr tepung terigu 250 ml air 1 ...</td>\n",
              "      <td>Jambi</td>\n",
              "      <td>https://cookpad.com/id/resep/12947116-41-pempe...</td>\n",
              "    </tr>\n",
              "    <tr>\n",
              "      <th>12</th>\n",
              "      <td>13</td>\n",
              "      <td>Bahan Pempek  100 gr tepung sagu 100 gr tepung...</td>\n",
              "      <td>Jambi</td>\n",
              "      <td>https://cookpad.com/id/resep/13193015-pempek-s...</td>\n",
              "    </tr>\n",
              "    <tr>\n",
              "      <th>13</th>\n",
              "      <td>14</td>\n",
              "      <td>Bahan pempek 100 gr tepung sagu 100 gr tepung ...</td>\n",
              "      <td>Jambi</td>\n",
              "      <td>https://cookpad.com/id/resep/16152345-13-pempe...</td>\n",
              "    </tr>\n",
              "    <tr>\n",
              "      <th>14</th>\n",
              "      <td>15</td>\n",
              "      <td>250 gr Tepung Terigu 250 gr Tepung Sagu 2 3 ge...</td>\n",
              "      <td>Jambi</td>\n",
              "      <td>https://cookpad.com/id/resep/5278752-pempek-sa...</td>\n",
              "    </tr>\n",
              "  </tbody>\n",
              "</table>\n",
              "</div>\n",
              "      <button class=\"colab-df-convert\" onclick=\"convertToInteractive('df-3e146b24-b345-4b06-8e13-f7726122a348')\"\n",
              "              title=\"Convert this dataframe to an interactive table.\"\n",
              "              style=\"display:none;\">\n",
              "        \n",
              "  <svg xmlns=\"http://www.w3.org/2000/svg\" height=\"24px\"viewBox=\"0 0 24 24\"\n",
              "       width=\"24px\">\n",
              "    <path d=\"M0 0h24v24H0V0z\" fill=\"none\"/>\n",
              "    <path d=\"M18.56 5.44l.94 2.06.94-2.06 2.06-.94-2.06-.94-.94-2.06-.94 2.06-2.06.94zm-11 1L8.5 8.5l.94-2.06 2.06-.94-2.06-.94L8.5 2.5l-.94 2.06-2.06.94zm10 10l.94 2.06.94-2.06 2.06-.94-2.06-.94-.94-2.06-.94 2.06-2.06.94z\"/><path d=\"M17.41 7.96l-1.37-1.37c-.4-.4-.92-.59-1.43-.59-.52 0-1.04.2-1.43.59L10.3 9.45l-7.72 7.72c-.78.78-.78 2.05 0 2.83L4 21.41c.39.39.9.59 1.41.59.51 0 1.02-.2 1.41-.59l7.78-7.78 2.81-2.81c.8-.78.8-2.07 0-2.86zM5.41 20L4 18.59l7.72-7.72 1.47 1.35L5.41 20z\"/>\n",
              "  </svg>\n",
              "      </button>\n",
              "      \n",
              "  <style>\n",
              "    .colab-df-container {\n",
              "      display:flex;\n",
              "      flex-wrap:wrap;\n",
              "      gap: 12px;\n",
              "    }\n",
              "\n",
              "    .colab-df-convert {\n",
              "      background-color: #E8F0FE;\n",
              "      border: none;\n",
              "      border-radius: 50%;\n",
              "      cursor: pointer;\n",
              "      display: none;\n",
              "      fill: #1967D2;\n",
              "      height: 32px;\n",
              "      padding: 0 0 0 0;\n",
              "      width: 32px;\n",
              "    }\n",
              "\n",
              "    .colab-df-convert:hover {\n",
              "      background-color: #E2EBFA;\n",
              "      box-shadow: 0px 1px 2px rgba(60, 64, 67, 0.3), 0px 1px 3px 1px rgba(60, 64, 67, 0.15);\n",
              "      fill: #174EA6;\n",
              "    }\n",
              "\n",
              "    [theme=dark] .colab-df-convert {\n",
              "      background-color: #3B4455;\n",
              "      fill: #D2E3FC;\n",
              "    }\n",
              "\n",
              "    [theme=dark] .colab-df-convert:hover {\n",
              "      background-color: #434B5C;\n",
              "      box-shadow: 0px 1px 3px 1px rgba(0, 0, 0, 0.15);\n",
              "      filter: drop-shadow(0px 1px 2px rgba(0, 0, 0, 0.3));\n",
              "      fill: #FFFFFF;\n",
              "    }\n",
              "  </style>\n",
              "\n",
              "      <script>\n",
              "        const buttonEl =\n",
              "          document.querySelector('#df-3e146b24-b345-4b06-8e13-f7726122a348 button.colab-df-convert');\n",
              "        buttonEl.style.display =\n",
              "          google.colab.kernel.accessAllowed ? 'block' : 'none';\n",
              "\n",
              "        async function convertToInteractive(key) {\n",
              "          const element = document.querySelector('#df-3e146b24-b345-4b06-8e13-f7726122a348');\n",
              "          const dataTable =\n",
              "            await google.colab.kernel.invokeFunction('convertToInteractive',\n",
              "                                                     [key], {});\n",
              "          if (!dataTable) return;\n",
              "\n",
              "          const docLinkHtml = 'Like what you see? Visit the ' +\n",
              "            '<a target=\"_blank\" href=https://colab.research.google.com/notebooks/data_table.ipynb>data table notebook</a>'\n",
              "            + ' to learn more about interactive tables.';\n",
              "          element.innerHTML = '';\n",
              "          dataTable['output_type'] = 'display_data';\n",
              "          await google.colab.output.renderOutput(dataTable, element);\n",
              "          const docLink = document.createElement('div');\n",
              "          docLink.innerHTML = docLinkHtml;\n",
              "          element.appendChild(docLink);\n",
              "        }\n",
              "      </script>\n",
              "    </div>\n",
              "  </div>\n",
              "  "
            ]
          },
          "metadata": {},
          "execution_count": 9
        }
      ],
      "source": [
        "data['text'] = data['text'].apply(remove_punctuation)\n",
        "data"
      ]
    },
    {
      "cell_type": "markdown",
      "metadata": {
        "id": "EvHIDdq12Vl4"
      },
      "source": [
        "## **Removing stopwords**"
      ]
    },
    {
      "cell_type": "markdown",
      "metadata": {
        "id": "8tEZaj4f2Vl5"
      },
      "source": [
        "**Extract the stop words**"
      ]
    },
    {
      "cell_type": "code",
      "execution_count": null,
      "metadata": {
        "_cell_guid": "5561eee4-cc1f-4a12-b959-6233ca9f3999",
        "_uuid": "e495c38becd43825387056e3c7e836ab64c8e96f",
        "id": "7FjUA5Z32Vl5"
      },
      "outputs": [],
      "source": [
        "from copy import copy\n",
        "# extracting the stopwords from nltk library\n",
        "sw = stopwords.words('indonesian')\n",
        "\n",
        "# adding Additional stopwords\n",
        "sw_new = list(sw)\n",
        "sw_new.extend(['halus','haluskan','dihaluskan','secukupnya','batang','lembar','panas','bahan','btg','gr','ml','iris','tipis','sdt','sdm',\n",
        "               'adonan','bumbu','pelengkap','sesuai','selera','rasa', 'bubuk','bh','siung','lbr','gelas','buah','kalau','suka','rasa','bila',\n",
        "               'blender','btr','kg','sdk','sendok','makan','saya','pakai','ikan','kecil','sedikit','perasan','giling','merebus',\n",
        "               'liter','fillet','tepung','besar','bongkol','daging','ikan','kocok', 'uleg','mendidih','isian','jempol','segenggam','kating',\n",
        "               'kuah','yang','dipotong','sejumput','jangan','dikupas','seduh', 'segar','rendam','panas','saus'])\n",
        "\n",
        "# # displaying the stopwords\n",
        "# sw_new"
      ]
    },
    {
      "cell_type": "code",
      "execution_count": null,
      "metadata": {
        "_cell_guid": "3f2f8acb-8929-4dc2-a79e-eb394e28ee78",
        "_uuid": "2e9d00e3a25a4a478fd6fb58a2983c11ea91839e",
        "colab": {
          "base_uri": "https://localhost:8080/"
        },
        "id": "cJpoU-SW2Vl6",
        "outputId": "0d695c12-cda5-4697-db6b-178b14d8441e"
      },
      "outputs": [
        {
          "output_type": "stream",
          "name": "stdout",
          "text": [
            "Number of stopwords:  758\n"
          ]
        }
      ],
      "source": [
        "print(\"Number of stopwords: \", len(sw))"
      ]
    },
    {
      "cell_type": "markdown",
      "metadata": {
        "id": "4LN2XNx42Vl7"
      },
      "source": [
        "**Function to remove stopwords**"
      ]
    },
    {
      "cell_type": "code",
      "execution_count": null,
      "metadata": {
        "_cell_guid": "ecf70a80-334e-42bc-a238-cd9ae39e324e",
        "_uuid": "4b1d9da7087c810c07fb77e0aa9081871b97af22",
        "collapsed": true,
        "id": "yszTJicj2Vl7"
      },
      "outputs": [],
      "source": [
        "def stopwords(text):\n",
        "    '''a function for removing the stopword'''\n",
        "    # removing the stop words and lowercasing the selected words\n",
        "    text = [word.lower() for word in text.split() if word.lower() not in sw_new]\n",
        "    # joining the list of words with space separator\n",
        "    return \" \".join(text)"
      ]
    },
    {
      "cell_type": "markdown",
      "metadata": {
        "id": "PZWDnxw72Vl8"
      },
      "source": [
        "**Apply the function to each examples**"
      ]
    },
    {
      "cell_type": "code",
      "execution_count": null,
      "metadata": {
        "_cell_guid": "692cc993-932e-4c67-8b0b-20926e495e3a",
        "_uuid": "58301bc228c8ba1403cd5dcf9696b5bb2e5c9198",
        "scrolled": true,
        "colab": {
          "base_uri": "https://localhost:8080/",
          "height": 520
        },
        "id": "zyQaeeB62Vl8",
        "outputId": "840aa471-9c17-4228-953e-1d76ee9d2f31"
      },
      "outputs": [
        {
          "output_type": "execute_result",
          "data": {
            "text/plain": [
              "    id                                               text asal_pempek  \\\n",
              "0    1  500 tenggiri 600 tapioka 300 air 1 bawang puti...   Palembang   \n",
              "1    2  125 terigu 250 sagu 3 beras 1 garam 1 ebi air ...   Palembang   \n",
              "2    3  250 putih telur 125 tapioka 1 2 minyak 1 2 gar...   Palembang   \n",
              "3    4  1 tenggiri 650 gram sagu 2 bawang putih 2 buti...   Palembang   \n",
              "4    5  pempek 500 tenggiri 400 air es 27 garam 13 pen...   Palembang   \n",
              "5    6  0 5 tenggiri 300 gram sagu air 1 kaldu kamur 1...      Bangka   \n",
              "6    7  1 2 kakap 300 sagu tani 1 telor 3 bawang putih...      Bangka   \n",
              "7    8  baso udang minyak goreng cuko cabai rawit caba...      Bangka   \n",
              "8    9  500 tenggiri 380 air 450 sagu tani 2 3 bawang ...      Bangka   \n",
              "9   10  250 gram tenggiri 225 gram sagu 190 air es 2 b...      Bangka   \n",
              "10  11  100 terigu 100 tapioka 10 cabe merah 2 bawang ...       Jambi   \n",
              "11  12  biang 100 terigu 250 air 1 daun bawang 1 garam...       Jambi   \n",
              "12  13  pempek 100 sagu 100 terigu air 1 penyedap jamu...       Jambi   \n",
              "13  14  pempek 100 sagu 100 terigu air gula garam kald...       Jambi   \n",
              "14  15  250 terigu 250 sagu 2 3 air 1 garam royco samb...       Jambi   \n",
              "\n",
              "                                                  url  \n",
              "0   https://www.viva.co.id/gaya-hidup/kuliner/1485...  \n",
              "1   https://www.viva.co.id/gaya-hidup/kuliner/1485...  \n",
              "2   https://www.viva.co.id/gaya-hidup/kuliner/1485...  \n",
              "3   https://www.viva.co.id/gaya-hidup/kuliner/1485...  \n",
              "4   https://www.viva.co.id/gaya-hidup/kuliner/1485...  \n",
              "5   https://cookpad.com/id/resep/15363024-pempek-b...  \n",
              "6   https://cookpad.com/id/resep/15540162-pempek-b...  \n",
              "7   https://cookpad.com/id/resep/16039341-pempek-u...  \n",
              "8   https://cookpad.com/id/resep/12352974-pempek-b...  \n",
              "9   https://www.merdeka.com/gaya/resep-pempek-rebu...  \n",
              "10  https://cookpad.com/id/resep/12382660-pempek-s...  \n",
              "11  https://cookpad.com/id/resep/12947116-41-pempe...  \n",
              "12  https://cookpad.com/id/resep/13193015-pempek-s...  \n",
              "13  https://cookpad.com/id/resep/16152345-13-pempe...  \n",
              "14  https://cookpad.com/id/resep/5278752-pempek-sa...  "
            ],
            "text/html": [
              "\n",
              "  <div id=\"df-e2b290e0-a3b4-4177-8961-1678ed7881f8\">\n",
              "    <div class=\"colab-df-container\">\n",
              "      <div>\n",
              "<style scoped>\n",
              "    .dataframe tbody tr th:only-of-type {\n",
              "        vertical-align: middle;\n",
              "    }\n",
              "\n",
              "    .dataframe tbody tr th {\n",
              "        vertical-align: top;\n",
              "    }\n",
              "\n",
              "    .dataframe thead th {\n",
              "        text-align: right;\n",
              "    }\n",
              "</style>\n",
              "<table border=\"1\" class=\"dataframe\">\n",
              "  <thead>\n",
              "    <tr style=\"text-align: right;\">\n",
              "      <th></th>\n",
              "      <th>id</th>\n",
              "      <th>text</th>\n",
              "      <th>asal_pempek</th>\n",
              "      <th>url</th>\n",
              "    </tr>\n",
              "  </thead>\n",
              "  <tbody>\n",
              "    <tr>\n",
              "      <th>0</th>\n",
              "      <td>1</td>\n",
              "      <td>500 tenggiri 600 tapioka 300 air 1 bawang puti...</td>\n",
              "      <td>Palembang</td>\n",
              "      <td>https://www.viva.co.id/gaya-hidup/kuliner/1485...</td>\n",
              "    </tr>\n",
              "    <tr>\n",
              "      <th>1</th>\n",
              "      <td>2</td>\n",
              "      <td>125 terigu 250 sagu 3 beras 1 garam 1 ebi air ...</td>\n",
              "      <td>Palembang</td>\n",
              "      <td>https://www.viva.co.id/gaya-hidup/kuliner/1485...</td>\n",
              "    </tr>\n",
              "    <tr>\n",
              "      <th>2</th>\n",
              "      <td>3</td>\n",
              "      <td>250 putih telur 125 tapioka 1 2 minyak 1 2 gar...</td>\n",
              "      <td>Palembang</td>\n",
              "      <td>https://www.viva.co.id/gaya-hidup/kuliner/1485...</td>\n",
              "    </tr>\n",
              "    <tr>\n",
              "      <th>3</th>\n",
              "      <td>4</td>\n",
              "      <td>1 tenggiri 650 gram sagu 2 bawang putih 2 buti...</td>\n",
              "      <td>Palembang</td>\n",
              "      <td>https://www.viva.co.id/gaya-hidup/kuliner/1485...</td>\n",
              "    </tr>\n",
              "    <tr>\n",
              "      <th>4</th>\n",
              "      <td>5</td>\n",
              "      <td>pempek 500 tenggiri 400 air es 27 garam 13 pen...</td>\n",
              "      <td>Palembang</td>\n",
              "      <td>https://www.viva.co.id/gaya-hidup/kuliner/1485...</td>\n",
              "    </tr>\n",
              "    <tr>\n",
              "      <th>5</th>\n",
              "      <td>6</td>\n",
              "      <td>0 5 tenggiri 300 gram sagu air 1 kaldu kamur 1...</td>\n",
              "      <td>Bangka</td>\n",
              "      <td>https://cookpad.com/id/resep/15363024-pempek-b...</td>\n",
              "    </tr>\n",
              "    <tr>\n",
              "      <th>6</th>\n",
              "      <td>7</td>\n",
              "      <td>1 2 kakap 300 sagu tani 1 telor 3 bawang putih...</td>\n",
              "      <td>Bangka</td>\n",
              "      <td>https://cookpad.com/id/resep/15540162-pempek-b...</td>\n",
              "    </tr>\n",
              "    <tr>\n",
              "      <th>7</th>\n",
              "      <td>8</td>\n",
              "      <td>baso udang minyak goreng cuko cabai rawit caba...</td>\n",
              "      <td>Bangka</td>\n",
              "      <td>https://cookpad.com/id/resep/16039341-pempek-u...</td>\n",
              "    </tr>\n",
              "    <tr>\n",
              "      <th>8</th>\n",
              "      <td>9</td>\n",
              "      <td>500 tenggiri 380 air 450 sagu tani 2 3 bawang ...</td>\n",
              "      <td>Bangka</td>\n",
              "      <td>https://cookpad.com/id/resep/12352974-pempek-b...</td>\n",
              "    </tr>\n",
              "    <tr>\n",
              "      <th>9</th>\n",
              "      <td>10</td>\n",
              "      <td>250 gram tenggiri 225 gram sagu 190 air es 2 b...</td>\n",
              "      <td>Bangka</td>\n",
              "      <td>https://www.merdeka.com/gaya/resep-pempek-rebu...</td>\n",
              "    </tr>\n",
              "    <tr>\n",
              "      <th>10</th>\n",
              "      <td>11</td>\n",
              "      <td>100 terigu 100 tapioka 10 cabe merah 2 bawang ...</td>\n",
              "      <td>Jambi</td>\n",
              "      <td>https://cookpad.com/id/resep/12382660-pempek-s...</td>\n",
              "    </tr>\n",
              "    <tr>\n",
              "      <th>11</th>\n",
              "      <td>12</td>\n",
              "      <td>biang 100 terigu 250 air 1 daun bawang 1 garam...</td>\n",
              "      <td>Jambi</td>\n",
              "      <td>https://cookpad.com/id/resep/12947116-41-pempe...</td>\n",
              "    </tr>\n",
              "    <tr>\n",
              "      <th>12</th>\n",
              "      <td>13</td>\n",
              "      <td>pempek 100 sagu 100 terigu air 1 penyedap jamu...</td>\n",
              "      <td>Jambi</td>\n",
              "      <td>https://cookpad.com/id/resep/13193015-pempek-s...</td>\n",
              "    </tr>\n",
              "    <tr>\n",
              "      <th>13</th>\n",
              "      <td>14</td>\n",
              "      <td>pempek 100 sagu 100 terigu air gula garam kald...</td>\n",
              "      <td>Jambi</td>\n",
              "      <td>https://cookpad.com/id/resep/16152345-13-pempe...</td>\n",
              "    </tr>\n",
              "    <tr>\n",
              "      <th>14</th>\n",
              "      <td>15</td>\n",
              "      <td>250 terigu 250 sagu 2 3 air 1 garam royco samb...</td>\n",
              "      <td>Jambi</td>\n",
              "      <td>https://cookpad.com/id/resep/5278752-pempek-sa...</td>\n",
              "    </tr>\n",
              "  </tbody>\n",
              "</table>\n",
              "</div>\n",
              "      <button class=\"colab-df-convert\" onclick=\"convertToInteractive('df-e2b290e0-a3b4-4177-8961-1678ed7881f8')\"\n",
              "              title=\"Convert this dataframe to an interactive table.\"\n",
              "              style=\"display:none;\">\n",
              "        \n",
              "  <svg xmlns=\"http://www.w3.org/2000/svg\" height=\"24px\"viewBox=\"0 0 24 24\"\n",
              "       width=\"24px\">\n",
              "    <path d=\"M0 0h24v24H0V0z\" fill=\"none\"/>\n",
              "    <path d=\"M18.56 5.44l.94 2.06.94-2.06 2.06-.94-2.06-.94-.94-2.06-.94 2.06-2.06.94zm-11 1L8.5 8.5l.94-2.06 2.06-.94-2.06-.94L8.5 2.5l-.94 2.06-2.06.94zm10 10l.94 2.06.94-2.06 2.06-.94-2.06-.94-.94-2.06-.94 2.06-2.06.94z\"/><path d=\"M17.41 7.96l-1.37-1.37c-.4-.4-.92-.59-1.43-.59-.52 0-1.04.2-1.43.59L10.3 9.45l-7.72 7.72c-.78.78-.78 2.05 0 2.83L4 21.41c.39.39.9.59 1.41.59.51 0 1.02-.2 1.41-.59l7.78-7.78 2.81-2.81c.8-.78.8-2.07 0-2.86zM5.41 20L4 18.59l7.72-7.72 1.47 1.35L5.41 20z\"/>\n",
              "  </svg>\n",
              "      </button>\n",
              "      \n",
              "  <style>\n",
              "    .colab-df-container {\n",
              "      display:flex;\n",
              "      flex-wrap:wrap;\n",
              "      gap: 12px;\n",
              "    }\n",
              "\n",
              "    .colab-df-convert {\n",
              "      background-color: #E8F0FE;\n",
              "      border: none;\n",
              "      border-radius: 50%;\n",
              "      cursor: pointer;\n",
              "      display: none;\n",
              "      fill: #1967D2;\n",
              "      height: 32px;\n",
              "      padding: 0 0 0 0;\n",
              "      width: 32px;\n",
              "    }\n",
              "\n",
              "    .colab-df-convert:hover {\n",
              "      background-color: #E2EBFA;\n",
              "      box-shadow: 0px 1px 2px rgba(60, 64, 67, 0.3), 0px 1px 3px 1px rgba(60, 64, 67, 0.15);\n",
              "      fill: #174EA6;\n",
              "    }\n",
              "\n",
              "    [theme=dark] .colab-df-convert {\n",
              "      background-color: #3B4455;\n",
              "      fill: #D2E3FC;\n",
              "    }\n",
              "\n",
              "    [theme=dark] .colab-df-convert:hover {\n",
              "      background-color: #434B5C;\n",
              "      box-shadow: 0px 1px 3px 1px rgba(0, 0, 0, 0.15);\n",
              "      filter: drop-shadow(0px 1px 2px rgba(0, 0, 0, 0.3));\n",
              "      fill: #FFFFFF;\n",
              "    }\n",
              "  </style>\n",
              "\n",
              "      <script>\n",
              "        const buttonEl =\n",
              "          document.querySelector('#df-e2b290e0-a3b4-4177-8961-1678ed7881f8 button.colab-df-convert');\n",
              "        buttonEl.style.display =\n",
              "          google.colab.kernel.accessAllowed ? 'block' : 'none';\n",
              "\n",
              "        async function convertToInteractive(key) {\n",
              "          const element = document.querySelector('#df-e2b290e0-a3b4-4177-8961-1678ed7881f8');\n",
              "          const dataTable =\n",
              "            await google.colab.kernel.invokeFunction('convertToInteractive',\n",
              "                                                     [key], {});\n",
              "          if (!dataTable) return;\n",
              "\n",
              "          const docLinkHtml = 'Like what you see? Visit the ' +\n",
              "            '<a target=\"_blank\" href=https://colab.research.google.com/notebooks/data_table.ipynb>data table notebook</a>'\n",
              "            + ' to learn more about interactive tables.';\n",
              "          element.innerHTML = '';\n",
              "          dataTable['output_type'] = 'display_data';\n",
              "          await google.colab.output.renderOutput(dataTable, element);\n",
              "          const docLink = document.createElement('div');\n",
              "          docLink.innerHTML = docLinkHtml;\n",
              "          element.appendChild(docLink);\n",
              "        }\n",
              "      </script>\n",
              "    </div>\n",
              "  </div>\n",
              "  "
            ]
          },
          "metadata": {},
          "execution_count": 12
        }
      ],
      "source": [
        "data['text'] = data['text'].apply(stopwords)\n",
        "data"
      ]
    },
    {
      "cell_type": "markdown",
      "source": [
        "# **Text Analytics**"
      ],
      "metadata": {
        "id": "_1DwBe1pwawh"
      }
    },
    {
      "cell_type": "markdown",
      "source": [
        "After removing Punctuations & Stopwords, we will directly perform Text Analytics.\n",
        "\n",
        "**Lemmatization / stemming is not performed** because the recipe ingredient texts mostly only contain nouns, instead of verbs. Therefore, there will be almost *no difference* even after changing the words to their base forms."
      ],
      "metadata": {
        "id": "5XSlf_ECa9e1"
      }
    },
    {
      "cell_type": "markdown",
      "source": [
        "## **Top Words**"
      ],
      "metadata": {
        "id": "EMSladRiwhSE"
      }
    },
    {
      "cell_type": "markdown",
      "source": [
        "### using ***CountVectorizer***\n",
        "\n",
        "literally just *counting* word frequency"
      ],
      "metadata": {
        "id": "fLoSFuLtxT7m"
      }
    },
    {
      "cell_type": "code",
      "source": [
        "def using_countvectorizer(text):\n",
        "  count_vectorizer = CountVectorizer()\n",
        "  count_vectorizer.fit(text)\n",
        "\n",
        "  dictionary = count_vectorizer.vocabulary_.items()\n",
        "\n",
        "  vocab = []\n",
        "  count = []\n",
        "\n",
        "  for key, value in dictionary:\n",
        "    vocab.append(key)\n",
        "    count.append(value)\n",
        "\n",
        "  return pd.DataFrame({'vocab':vocab, 'count':count}).sort_values('count',ascending=False)"
      ],
      "metadata": {
        "id": "5W4cZuiHxi15"
      },
      "execution_count": null,
      "outputs": []
    },
    {
      "cell_type": "code",
      "source": [
        "# counting words for ALL TEXTS\n",
        "countvec_vocab_all_text = using_countvectorizer(data['text'])\n",
        "\n",
        "# counting words for EACH RECIPE\n",
        "countvec_vocab_jambi = using_countvectorizer(data['text'].loc[data['asal_pempek']=='Jambi'])\n",
        "countvec_vocab_palemb= using_countvectorizer(data['text'].loc[data['asal_pempek']=='Palembang'])\n",
        "countvec_vocab_bangka= using_countvectorizer(data['text'].loc[data['asal_pempek']=='Bangka'])"
      ],
      "metadata": {
        "id": "AzoHnwkLx__8"
      },
      "execution_count": null,
      "outputs": []
    },
    {
      "cell_type": "markdown",
      "source": [
        "### using ***TF-IDF***"
      ],
      "metadata": {
        "id": "0ELR4hiyxXOU"
      }
    },
    {
      "cell_type": "markdown",
      "source": [
        "TF(t) = **1 + log[ (Number of times term t appears in a document) / (Total number of terms in the document) ].**\n",
        "\n",
        "IDF(t) = log_e(Total number of documents / Number of documents with term t in it)."
      ],
      "metadata": {
        "id": "iNzjCrN20lPj"
      }
    },
    {
      "cell_type": "code",
      "source": [
        "def using_tfidfvectorizer(text):\n",
        "  tfid_vectorizer = TfidfVectorizer(stop_words=sw_new, sublinear_tf=True)\n",
        "  tfid_vectorizer.fit(text)\n",
        "\n",
        "  dictionary = tfid_vectorizer.vocabulary_.items()\n",
        "\n",
        "  vocab = []\n",
        "  count = []\n",
        "\n",
        "  for key, value in dictionary:\n",
        "    vocab.append(key)\n",
        "    count.append(value)\n",
        "\n",
        "  return pd.DataFrame({'vocab':vocab, 'count':count}).sort_values('count',ascending=False)"
      ],
      "metadata": {
        "id": "a0X2ha0PzIo5"
      },
      "execution_count": null,
      "outputs": []
    },
    {
      "cell_type": "code",
      "source": [
        "# counting words for ALL TEXTS\n",
        "tfidf_vocab_all_text = using_tfidfvectorizer(data['text'])\n",
        "\n",
        "# counting words for EACH RECIPE\n",
        "tfidf_vocab_jambi = using_tfidfvectorizer(data['text'].loc[data['asal_pempek']=='Jambi'])\n",
        "tfidf_vocab_palemb= using_tfidfvectorizer(data['text'].loc[data['asal_pempek']=='Palembang'])\n",
        "tfidf_vocab_bangka= using_tfidfvectorizer(data['text'].loc[data['asal_pempek']=='Bangka'])"
      ],
      "metadata": {
        "colab": {
          "base_uri": "https://localhost:8080/"
        },
        "id": "tKbxJbRv09r0",
        "outputId": "b99ac764-3c29-4d93-bb3a-c1dc1c0482c0"
      },
      "execution_count": null,
      "outputs": [
        {
          "output_type": "stream",
          "name": "stderr",
          "text": [
            "/usr/local/lib/python3.7/dist-packages/sklearn/feature_extraction/text.py:401: UserWarning: Your stop_words may be inconsistent with your preprocessing. Tokenizing the stop words generated tokens ['baiknya', 'berkali', 'kali', 'kurangnya', 'mata', 'olah', 'sekurang', 'setidak', 'tama', 'tidaknya'] not in stop_words.\n",
            "  % sorted(inconsistent)\n"
          ]
        }
      ]
    },
    {
      "cell_type": "markdown",
      "source": [
        "### ***visualization*** of Top Words"
      ],
      "metadata": {
        "id": "hI9IE6Zo1Ool"
      }
    },
    {
      "cell_type": "code",
      "source": [
        "def plot_top_words(subplotindex,data,text):\n",
        "  plt.subplot(4,2,subplotindex).title.set_text(text)\n",
        "  plt.barh('vocab', 'count',data=data.head(20))\n",
        "  plt.gca().invert_yaxis()"
      ],
      "metadata": {
        "id": "A-xuaNe52cIL"
      },
      "execution_count": null,
      "outputs": []
    },
    {
      "cell_type": "code",
      "source": [
        "# visualizing Top Words result of CountVectorizer\n",
        "\n",
        "plt.figure(figsize=(20,20))\n",
        "\n",
        "plot_top_words(1, countvec_vocab_all_text, 'CountVec: Semua Resep')\n",
        "plot_top_words(3, countvec_vocab_jambi, 'CountVec: Pempek Jambi')\n",
        "plot_top_words(5, countvec_vocab_palemb, 'CountVec: Pempek Palembang')\n",
        "plot_top_words(7, countvec_vocab_bangka, 'CountVec: Pempek Bangka')\n",
        "\n",
        "# visualizing Top Words result of TF-IDF Vectorizer\n",
        "\n",
        "plot_top_words(2, tfidf_vocab_all_text, 'TF-IDF: Semua Resep')\n",
        "plot_top_words(4, tfidf_vocab_jambi, 'TF-IDF: Pempek Jambi')\n",
        "plot_top_words(6, tfidf_vocab_palemb, 'TF-IDF: Pempek Palembang')\n",
        "plot_top_words(8, tfidf_vocab_bangka, 'TF-IDF: Pempek Bangka')\n",
        "\n",
        "plt.show()"
      ],
      "metadata": {
        "colab": {
          "base_uri": "https://localhost:8080/",
          "height": 1000
        },
        "id": "560DRzhh2yGq",
        "outputId": "5397cfc2-6342-4900-cfe5-2a064764f394"
      },
      "execution_count": null,
      "outputs": [
        {
          "output_type": "display_data",
          "data": {
            "text/plain": [
              "<Figure size 1440x1440 with 8 Axes>"
            ],
            "image/png": "[encoded data removed]"
          },
          "metadata": {
            "image/png": {
              "width": 1187,
              "height": 1133
            },
            "needs_background": "light"
          }
        }
      ]
    },
    {
      "cell_type": "markdown",
      "source": [
        "Turns out there is no difference between CountVectorizer and TF-IDF Vectorizer\n",
        "\n",
        "Some interesting insights from statistics above:\n",
        "\n",
        "\n",
        "*   Top 5 words from **Pempek Jambi**: Terigu, Tapioka, Sop, Sambal, Sagu\n",
        "\n",
        "(a lot of flour kinds and using Sambal is being emphasized here)\n",
        "*   Top 5 words from **Pempek Palembang**: tongcai, timun, tenggiri, telur\n",
        "\n",
        "(only this Pempek that uses tongcai, they also use tenggiri with no doubt)\n",
        "*   Top 5 words from **Pempek Bangka**: udang, tenggiri, telor, tani, sagu\n",
        "\n",
        "(Pempek Bangka not only uses tenggiri, but also udang)\n",
        "*   Top 5 words from **all corpus**: udang, tongcai, timun, terigu, tenggiri\n",
        "\n",
        "(this actually listed the uniques word of each recipe. udang from Pempek Bangka; tongcai & timun from Pempek Palembang; tenggiri from Pempek Bangka & Palembang; terigu from Pempek Jambi\n",
        "\n"
      ],
      "metadata": {
        "id": "8_vaq-47j5Fx"
      }
    },
    {
      "cell_type": "markdown",
      "source": [
        "## **Text Similarity**"
      ],
      "metadata": {
        "id": "9C9qltPVFI7E"
      }
    },
    {
      "cell_type": "markdown",
      "source": [
        "To compare similarities between 2 documents, we will use Cosine Similarity formula, where:\n",
        "\n",
        "cos = D1.D2/|D1||D2|"
      ],
      "metadata": {
        "id": "OOc0CJ_ASITO"
      }
    },
    {
      "cell_type": "code",
      "source": [
        "# Below is the function that we will use to calculate Cosine Similarity\n",
        "def cosine_sim(text1, text2):\n",
        "  tfidf_vectorizer = TfidfVectorizer(stop_words=sw_new, sublinear_tf=True)\n",
        "  tfidf = tfidf_vectorizer.fit_transform([text1, text2])\n",
        "  return ((tfidf * tfidf.T).A)[0,1]"
      ],
      "metadata": {
        "id": "U0uD5ia8FNnG"
      },
      "execution_count": null,
      "outputs": []
    },
    {
      "cell_type": "markdown",
      "source": [
        "Take a closer look of how the document comparison process executed"
      ],
      "metadata": {
        "id": "FSSPDhW5dJFs"
      }
    },
    {
      "cell_type": "code",
      "source": [
        "# This is just one example of document comparisons. Later, we need to compare each recipe with the others.\n",
        "# Example: Similarity between Resep Pempek Palembang & Pempek Jambi.\n",
        "\n",
        "tfidf_vectorizer = TfidfVectorizer(stop_words=sw_new, sublinear_tf=True)\n",
        "tfidf = tfidf_vectorizer.fit_transform([str(data.loc[data['asal_pempek']=='Palembang', 'text'].values),\n",
        "                                        str(data.loc[data['asal_pempek']=='Jambi', 'text'].values)])\n",
        "print('TF-IDF of 2 documents being compared:\\n', tfidf)\n",
        "\n",
        "print('\\nTransposed TF-IDF of 2 documents being compared:\\n',tfidf.T)\n",
        "\n",
        "print('\\nMatrix multiplication to calculate cosine similarity between documents:\\n', (tfidf * tfidf.T))\n",
        "\n",
        "print('\\nCosine Similarity Result:\\n', (tfidf * tfidf.T).A)"
      ],
      "metadata": {
        "colab": {
          "base_uri": "https://localhost:8080/"
        },
        "id": "Hvj0wslbdG5C",
        "outputId": "f826971d-b483-4b9c-bbf1-0db48287f9e6"
      },
      "execution_count": null,
      "outputs": [
        {
          "output_type": "stream",
          "name": "stdout",
          "text": [
            "TF-IDF of 2 documents being compared:\n",
            "   (0, 14)\t0.07696228790735815\n",
            "  (0, 8)\t0.1303084807797862\n",
            "  (0, 0)\t0.0547593017168201\n",
            "  (0, 66)\t0.07696228790735815\n",
            "  (0, 46)\t0.07696228790735815\n",
            "  (0, 1)\t0.0547593017168201\n",
            "  (0, 3)\t0.1615140031663949\n",
            "  (0, 10)\t0.07696228790735815\n",
            "  (0, 16)\t0.07696228790735815\n",
            "  (0, 74)\t0.07696228790735815\n",
            "  (0, 4)\t0.07696228790735815\n",
            "  (0, 22)\t0.07696228790735815\n",
            "  (0, 67)\t0.1303084807797862\n",
            "  (0, 45)\t0.1303084807797862\n",
            "  (0, 58)\t0.09271555731126532\n",
            "  (0, 48)\t0.07696228790735815\n",
            "  (0, 59)\t0.09271555731126532\n",
            "  (0, 18)\t0.07696228790735815\n",
            "  (0, 13)\t0.1303084807797862\n",
            "  (0, 39)\t0.1836546736522143\n",
            "  (0, 20)\t0.1303084807797862\n",
            "  (0, 51)\t0.07696228790735815\n",
            "  (0, 36)\t0.1615140031663949\n",
            "  (0, 60)\t0.07696228790735815\n",
            "  (0, 34)\t0.0547593017168201\n",
            "  :\t:\n",
            "  (1, 49)\t0.2629458037307206\n",
            "  (1, 31)\t0.2404602484438695\n",
            "  (1, 0)\t0.18708810500792902\n",
            "  (1, 1)\t0.2207858174246273\n",
            "  (1, 58)\t0.12139307703052228\n",
            "  (1, 59)\t0.12139307703052228\n",
            "  (1, 34)\t0.2436179012246575\n",
            "  (1, 38)\t0.12139307703052228\n",
            "  (1, 55)\t0.15046359001775447\n",
            "  (1, 64)\t0.17108944722757483\n",
            "  (1, 72)\t0.18708810500792902\n",
            "  (1, 41)\t0.15046359001775447\n",
            "  (1, 44)\t0.15046359001775447\n",
            "  (1, 47)\t0.12139307703052228\n",
            "  (1, 62)\t0.15046359001775447\n",
            "  (1, 30)\t0.17108944722757483\n",
            "  (1, 53)\t0.2436179012246575\n",
            "  (1, 9)\t0.15046359001775447\n",
            "  (1, 37)\t0.211212056314562\n",
            "  (1, 56)\t0.07169670683346975\n",
            "  (1, 40)\t0.20015996021480698\n",
            "  (1, 61)\t0.20015996021480698\n",
            "  (1, 26)\t0.2609084265116145\n",
            "  (1, 21)\t0.18708810500792902\n",
            "  (1, 69)\t0.07169670683346975\n",
            "\n",
            "Transposed TF-IDF of 2 documents being compared:\n",
            "   (14, 0)\t0.07696228790735815\n",
            "  (8, 0)\t0.1303084807797862\n",
            "  (0, 0)\t0.0547593017168201\n",
            "  (66, 0)\t0.07696228790735815\n",
            "  (46, 0)\t0.07696228790735815\n",
            "  (1, 0)\t0.0547593017168201\n",
            "  (3, 0)\t0.1615140031663949\n",
            "  (10, 0)\t0.07696228790735815\n",
            "  (16, 0)\t0.07696228790735815\n",
            "  (74, 0)\t0.07696228790735815\n",
            "  (4, 0)\t0.07696228790735815\n",
            "  (22, 0)\t0.07696228790735815\n",
            "  (67, 0)\t0.1303084807797862\n",
            "  (45, 0)\t0.1303084807797862\n",
            "  (58, 0)\t0.09271555731126532\n",
            "  (48, 0)\t0.07696228790735815\n",
            "  (59, 0)\t0.09271555731126532\n",
            "  (18, 0)\t0.07696228790735815\n",
            "  (13, 0)\t0.1303084807797862\n",
            "  (39, 0)\t0.1836546736522143\n",
            "  (20, 0)\t0.1303084807797862\n",
            "  (51, 0)\t0.07696228790735815\n",
            "  (36, 0)\t0.1615140031663949\n",
            "  (60, 0)\t0.07696228790735815\n",
            "  (34, 0)\t0.0547593017168201\n",
            "  :\t:\n",
            "  (49, 1)\t0.2629458037307206\n",
            "  (31, 1)\t0.2404602484438695\n",
            "  (0, 1)\t0.18708810500792902\n",
            "  (1, 1)\t0.2207858174246273\n",
            "  (58, 1)\t0.12139307703052228\n",
            "  (59, 1)\t0.12139307703052228\n",
            "  (34, 1)\t0.2436179012246575\n",
            "  (38, 1)\t0.12139307703052228\n",
            "  (55, 1)\t0.15046359001775447\n",
            "  (64, 1)\t0.17108944722757483\n",
            "  (72, 1)\t0.18708810500792902\n",
            "  (41, 1)\t0.15046359001775447\n",
            "  (44, 1)\t0.15046359001775447\n",
            "  (47, 1)\t0.12139307703052228\n",
            "  (62, 1)\t0.15046359001775447\n",
            "  (30, 1)\t0.17108944722757483\n",
            "  (53, 1)\t0.2436179012246575\n",
            "  (9, 1)\t0.15046359001775447\n",
            "  (37, 1)\t0.211212056314562\n",
            "  (56, 1)\t0.07169670683346975\n",
            "  (40, 1)\t0.20015996021480698\n",
            "  (61, 1)\t0.20015996021480698\n",
            "  (26, 1)\t0.2609084265116145\n",
            "  (21, 1)\t0.18708810500792902\n",
            "  (69, 1)\t0.07169670683346975\n",
            "\n",
            "Matrix multiplication to calculate cosine similarity between documents:\n",
            "   (0, 1)\t0.45414312716894173\n",
            "  (0, 0)\t0.9999999999999997\n",
            "  (1, 0)\t0.45414312716894173\n",
            "  (1, 1)\t1.0000000000000002\n",
            "\n",
            "Cosine Similarity Result:\n",
            " [[1.         0.45414313]\n",
            " [0.45414313 1.        ]]\n"
          ]
        }
      ]
    },
    {
      "cell_type": "markdown",
      "source": [
        "With the same process as stated above, here are the Similarity test results between each recipe"
      ],
      "metadata": {
        "id": "sG0ju075hoIB"
      }
    },
    {
      "cell_type": "code",
      "source": [
        "print('Similarity between Resep Pempek Palembang & Pempek Jambi:', cosine_sim(str(data.loc[data['asal_pempek']=='Palembang', 'text'].values),\n",
        "                                                                        str(data.loc[data['asal_pempek']=='Jambi', 'text'].values)))\n",
        "\n",
        "print('Similarity between Resep Pempek Palembang & Pempek Bangka:', cosine_sim(str(data['text'].loc[data['asal_pempek']=='Palembang'].values),\n",
        "                                                                        str(data['text'].loc[data['asal_pempek']=='Bangka'].values)))\n",
        "\n",
        "print('Similarity between Resep Pempek Bangka & Pempek Jambi:', cosine_sim(str(data['text'].loc[data['asal_pempek']=='Bangka'].values),\n",
        "                                                                        str(data['text'].loc[data['asal_pempek']=='Jambi'].values)))"
      ],
      "metadata": {
        "colab": {
          "base_uri": "https://localhost:8080/"
        },
        "id": "PUCDVvRMS0k-",
        "outputId": "998d08bd-175a-4a75-8632-cd584686ba48"
      },
      "execution_count": null,
      "outputs": [
        {
          "output_type": "stream",
          "name": "stdout",
          "text": [
            "Similarity between Resep Pempek Palembang & Pempek Jambi: 0.45414312716894173\n",
            "Similarity between Resep Pempek Palembang & Pempek Bangka: 0.519766556805676\n",
            "Similarity between Resep Pempek Bangka & Pempek Jambi: 0.4803466982016712\n"
          ]
        }
      ]
    },
    {
      "cell_type": "markdown",
      "source": [
        "Now, we are going to create a Dummy text. We will find which recipe is the most similar to our Dummy text."
      ],
      "metadata": {
        "id": "TOCytFkVZKzE"
      }
    },
    {
      "cell_type": "code",
      "source": [
        "dummy_text = \"Tenggiri Udang Tapioka Terigu Air Gula\".lower()\n",
        "\n",
        "print('Similarity of Dummy text and Resep Pempek Palembang:', cosine_sim(dummy_text,\n",
        "                                                                    str(data.loc[data['asal_pempek']=='Palembang', 'text'].values)))\n",
        "print('Similarity of Dummy text and Resep Pempek Bangka:', cosine_sim(dummy_text,\n",
        "                                                                    str(data.loc[data['asal_pempek']=='Bangka', 'text'].values)))\n",
        "print('Similarity of Dummy text and Resep Pempek Jambi:', cosine_sim(dummy_text,\n",
        "                                                                    str(data.loc[data['asal_pempek']=='Jambi', 'text'].values)))"
      ],
      "metadata": {
        "colab": {
          "base_uri": "https://localhost:8080/"
        },
        "id": "eoS2j0CGZbn8",
        "outputId": "18b4e0da-0ed0-4ce2-b95f-2280751f81d5"
      },
      "execution_count": null,
      "outputs": [
        {
          "output_type": "stream",
          "name": "stdout",
          "text": [
            "Similarity of Dummy text and Resep Pempek Palembang: 0.232391708012669\n",
            "Similarity of Dummy text and Resep Pempek Bangka: 0.22341927918619414\n",
            "Similarity of Dummy text and Resep Pempek Jambi: 0.1824794606843483\n"
          ]
        }
      ]
    },
    {
      "cell_type": "markdown",
      "source": [
        "# ***gajadi dipake***"
      ],
      "metadata": {
        "id": "KxFDVMI0wnRT"
      }
    },
    {
      "cell_type": "markdown",
      "metadata": {
        "id": "Aci7QdHS2Vl8"
      },
      "source": [
        "## **Top words before stemming**"
      ]
    },
    {
      "cell_type": "markdown",
      "metadata": {
        "id": "CmBX2DdR2Vl9"
      },
      "source": [
        "**Collect vocabulary count**\n",
        "\n",
        "We will not use word counts as feature for NLP since tf-idf is a better metric"
      ]
    },
    {
      "cell_type": "code",
      "execution_count": null,
      "metadata": {
        "_cell_guid": "e398cb01-a8c4-4ea8-afb1-428898ad7dab",
        "_uuid": "7ecc0e3ccf65dfc9a01271e5b84a9885b79d6754",
        "collapsed": true,
        "id": "sNh56ADm2Vl9"
      },
      "outputs": [],
      "source": [
        "# FITTING COUNT VECTORIZER FULLY TO ALL TEXTS\n",
        "\n",
        "# create a count vectorizer object\n",
        "count_vectorizer = CountVectorizer()\n",
        "# fit the count vectorizer using the text data\n",
        "count_vectorizer.fit(data['text'])\n",
        "# collect the vocabulary items used in the vectorizer\n",
        "dictionary = count_vectorizer.vocabulary_.items()"
      ]
    },
    {
      "cell_type": "code",
      "source": [
        "# FITTING COUNT VECTORIZER TO EACH RECIPE SEPARATELY\n",
        "\n",
        "count_vectorizer.fit(data['text'].loc[data['asal_pempek']=='Jambi'])\n",
        "dictionary_jambi = count_vectorizer.vocabulary_.items()\n",
        "\n",
        "count_vectorizer.fit(data['text'].loc[data['asal_pempek']=='Palembang'])\n",
        "dictionary_palemb = count_vectorizer.vocabulary_.items()\n",
        "\n",
        "count_vectorizer.fit(data['text'].loc[data['asal_pempek']=='Bangka'])\n",
        "dictionary_bangka = count_vectorizer.vocabulary_.items()"
      ],
      "metadata": {
        "id": "wyvNKm3h9mRi"
      },
      "execution_count": null,
      "outputs": []
    },
    {
      "cell_type": "markdown",
      "metadata": {
        "id": "z81ZTqds2Vl9"
      },
      "source": [
        "Store the vocab and counts in a pandas dataframe"
      ]
    },
    {
      "cell_type": "code",
      "execution_count": null,
      "metadata": {
        "_cell_guid": "85f9f01f-edd4-43a2-8375-a3801b7975f8",
        "_uuid": "559abc3827e7154cb6c9cbe662620eaca9184eed",
        "collapsed": true,
        "id": "eAC9p0__2Vl-"
      },
      "outputs": [],
      "source": [
        "# DICTIONARY FULL / ALL TEXTS\n",
        "\n",
        "# lists to store the vocab and counts\n",
        "vocab = []\n",
        "count = []\n",
        "# iterate through each vocab and count append the value to designated lists\n",
        "for key, value in dictionary:\n",
        "    vocab.append(key)\n",
        "    count.append(value)\n",
        "# store the count in panadas dataframe with vocab as index\n",
        "vocab_bef_stem = pd.Series(count, index=vocab)\n",
        "# sort the dataframe\n",
        "vocab_bef_stem = vocab_bef_stem.sort_values(ascending=False)"
      ]
    },
    {
      "cell_type": "code",
      "source": [
        "# DICTIONARY JAMBI\n",
        "\n",
        "# lists to store the vocab and counts\n",
        "vocab_jambi = []\n",
        "count_jambi = []\n",
        "# iterate through each vocab and count append the value to designated lists\n",
        "for key, value in dictionary_jambi:\n",
        "    vocab_jambi.append(key)\n",
        "    count_jambi.append(value)\n",
        "# store the count in panadas dataframe with vocab as index\n",
        "vocab_jambi_bef_stem = pd.Series(count_jambi, index=vocab_jambi)\n",
        "# sort the dataframe\n",
        "vocab_jambi_bef_stem = vocab_jambi_bef_stem.sort_values(ascending=False)\n",
        "\n",
        "\n",
        "# DICTIONARY PALEMBANG\n",
        "\n",
        "# lists to store the vocab and counts\n",
        "vocab_palemb = []\n",
        "count_palemb = []\n",
        "# iterate through each vocab and count append the value to designated lists\n",
        "for key, value in dictionary_palemb:\n",
        "    vocab_palemb.append(key)\n",
        "    count_palemb.append(value)\n",
        "# store the count in panadas dataframe with vocab as index\n",
        "vocab_palemb_bef_stem = pd.Series(count_palemb, index=vocab_palemb)\n",
        "# sort the dataframe\n",
        "vocab_palemb_bef_stem = vocab_palemb_bef_stem.sort_values(ascending=False)\n",
        "\n",
        "\n",
        "# DICTIONARY BANGKA\n",
        "\n",
        "# lists to store the vocab and counts\n",
        "vocab_bangka = []\n",
        "count_bangka = []\n",
        "# iterate through each vocab and count append the value to designated lists\n",
        "for key, value in dictionary_bangka:\n",
        "    vocab_bangka.append(key)\n",
        "    count_bangka.append(value)\n",
        "# store the count in panadas dataframe with vocab as index\n",
        "vocab_bangka_bef_stem = pd.Series(count_bangka, index=vocab_bangka)\n",
        "# sort the dataframe\n",
        "vocab_bangka_bef_stem = vocab_bangka_bef_stem.sort_values(ascending=False)"
      ],
      "metadata": {
        "id": "P7Pk6i9p_jWr"
      },
      "execution_count": null,
      "outputs": []
    },
    {
      "cell_type": "markdown",
      "metadata": {
        "id": "UdvxN6ER2Vl-"
      },
      "source": [
        "**Bar plot of top words before stemming**"
      ]
    },
    {
      "cell_type": "code",
      "execution_count": null,
      "metadata": {
        "_cell_guid": "3c6f2850-ad05-4bef-b024-198d0267dd7d",
        "_uuid": "ed02e10fa9b1db3ce8d11269f973a7b60915285c",
        "scrolled": false,
        "colab": {
          "base_uri": "https://localhost:8080/",
          "height": 608
        },
        "id": "cYhp0wlm2Vl-",
        "outputId": "efeb88bc-df39-4bb8-a32a-cb394e428e72"
      },
      "outputs": [
        {
          "output_type": "execute_result",
          "data": {
            "text/plain": [
              "<matplotlib.axes._subplots.AxesSubplot at 0x7fc937179f10>"
            ]
          },
          "metadata": {},
          "execution_count": 162
        },
        {
          "output_type": "display_data",
          "data": {
            "text/plain": [
              "<Figure size 360x720 with 1 Axes>"
            ],
            "image/png": "[encoded data removed]"
          },
          "metadata": {
            "image/png": {
              "width": 350,
              "height": 574
            },
            "needs_background": "light"
          }
        }
      ],
      "source": [
        "# TOP WORDS BEFORE STEMMING from ALL TEXTS\n",
        "\n",
        "top_vacab = vocab_bef_stem.head(20)\n",
        "top_vacab.plot(kind = 'barh', figsize=(5,10))"
      ]
    },
    {
      "cell_type": "code",
      "source": [
        "# TOP WORDS BEFORE STEMMING for EACH RECIPE\n",
        "\n",
        "top_vocab_jambi = vocab_jambi_bef_stem.head(20)\n",
        "plt.subplot(1,5,1).title.set_text('Pempek Jambi')\n",
        "top_vocab_jambi.plot(kind = 'barh', figsize=(10,10))\n",
        "\n",
        "top_vocab_palemb = vocab_palemb_bef_stem.head(20)\n",
        "plt.subplot(1,5,3).title.set_text('Pempek Palembang')\n",
        "top_vocab_palemb.plot(kind = 'barh', figsize=(10,10))\n",
        "\n",
        "top_vocab_bangka = vocab_bangka_bef_stem.head(20)\n",
        "plt.subplot(1,5,5).title.set_text('Pempek Bangka')\n",
        "top_vocab_bangka.plot(kind = 'barh', figsize=(10,10))\n",
        "\n",
        "plt.show()"
      ],
      "metadata": {
        "colab": {
          "base_uri": "https://localhost:8080/",
          "height": 607
        },
        "id": "ac_lNJ1LA-DA",
        "outputId": "c5ca551c-acdc-469e-bc29-3c4f91e4b450"
      },
      "execution_count": null,
      "outputs": [
        {
          "output_type": "display_data",
          "data": {
            "text/plain": [
              "<Figure size 720x720 with 3 Axes>"
            ],
            "image/png": "[encoded data removed]"
          },
          "metadata": {
            "image/png": {
              "width": 629,
              "height": 590
            },
            "needs_background": "light"
          }
        }
      ]
    },
    {
      "cell_type": "markdown",
      "metadata": {
        "id": "CClJoDck2Vl_"
      },
      "source": [
        "##  **Stemming operations**"
      ]
    },
    {
      "cell_type": "markdown",
      "metadata": {
        "id": "FX1O72FN2Vl_"
      },
      "source": [
        "Stemming operation bundles together words of same root. E.g. stem operation bundles \"response\" and \"respond\" into a common \"respon\""
      ]
    },
    {
      "cell_type": "markdown",
      "metadata": {
        "id": "6pCEm4O12Vl_"
      },
      "source": [
        "**A funtion to carry out stemming operation**"
      ]
    },
    {
      "cell_type": "code",
      "execution_count": null,
      "metadata": {
        "_cell_guid": "da669b28-e6da-4f1c-b219-0161b5c2fb8b",
        "_uuid": "5967cc037e541f621ad817e262a83e23510a116f",
        "collapsed": true,
        "id": "_wheBOGe2VmA"
      },
      "outputs": [],
      "source": [
        "# create an object of stemming function\n",
        "stemmer = StemmerFactory().create_stemmer()\n",
        "\n",
        "def stemming(text):\n",
        "    '''a function which stems each word in the given text'''\n",
        "    text = [stemmer.stem(word) for word in text.split()]\n",
        "    return \" \".join(text)"
      ]
    },
    {
      "cell_type": "markdown",
      "metadata": {
        "id": "9vQ1TSE32VmA"
      },
      "source": [
        "**Apply the function to each examples**"
      ]
    },
    {
      "cell_type": "code",
      "execution_count": null,
      "metadata": {
        "_cell_guid": "9dfaf9e2-c77d-4f68-8b7b-aa26cda11707",
        "_uuid": "60d64a3db3e6dd388b27eac313735e722fdea6a0",
        "colab": {
          "base_uri": "https://localhost:8080/",
          "height": 629
        },
        "id": "8IgLDbiT2VmB",
        "outputId": "26ba9e38-00a9-463c-bf06-4449328fffe4"
      },
      "outputs": [
        {
          "output_type": "execute_result",
          "data": {
            "text/plain": [
              "    id                                               text asal_pempek  \\\n",
              "0    1  resep pempek palembang 1 pempek palembang teng...   Palembang   \n",
              "1    2  resep pempek bangka cuko merah 250 gram tenggi...      Bangka   \n",
              "2    3  pempek bangka 500 tenggiri 380 air 450 sagu ta...      Bangka   \n",
              "3    4  pempek udang khas bangka baso udang lihat rese...      Bangka   \n",
              "4    5  pempek bangka 1 2 kakap 300 sagu tani 1 telur ...      Bangka   \n",
              "5    6  pempek bangka 0 5 tenggiri 300 gram sagu air 1...      Bangka   \n",
              "6    7  13 pempek sambal khas jambi pempek 100 sagu 10...       Jambi   \n",
              "7    8  pempek sambal khas jambi pempek 100 sagu 100 t...       Jambi   \n",
              "8    9  41 pempek sambal khas jambi biang 100 teoung t...       Jambi   \n",
              "9   10  pempek sambal khas jambi 100 terigu 100 tapiok...       Jambi   \n",
              "10  11  pempek sambal khas jambi 250 terigu 250 sagu 2...       Jambi   \n",
              "\n",
              "                                                  url  jumlah_resep  \n",
              "0   https://www.viva.co.id/gaya-hidup/kuliner/1485...             5  \n",
              "1   https://www.merdeka.com/gaya/resep-pempek-rebu...             1  \n",
              "2   https://cookpad.com/id/resep/12352974-pempek-b...             1  \n",
              "3   https://cookpad.com/id/resep/16039341-pempek-u...             1  \n",
              "4   https://cookpad.com/id/resep/15540162-pempek-b...             1  \n",
              "5   https://cookpad.com/id/resep/15363024-pempek-b...             1  \n",
              "6   https://cookpad.com/id/resep/16152345-13-pempe...             1  \n",
              "7   https://cookpad.com/id/resep/13193015-pempek-s...             1  \n",
              "8   https://cookpad.com/id/resep/12947116-41-pempe...             1  \n",
              "9   https://cookpad.com/id/resep/12382660-pempek-s...             1  \n",
              "10  https://cookpad.com/id/resep/5278752-pempek-sa...             1  "
            ],
            "text/html": [
              "\n",
              "  <div id=\"df-646ac697-5834-4e8b-8dfd-e729fb890a3a\">\n",
              "    <div class=\"colab-df-container\">\n",
              "      <div>\n",
              "<style scoped>\n",
              "    .dataframe tbody tr th:only-of-type {\n",
              "        vertical-align: middle;\n",
              "    }\n",
              "\n",
              "    .dataframe tbody tr th {\n",
              "        vertical-align: top;\n",
              "    }\n",
              "\n",
              "    .dataframe thead th {\n",
              "        text-align: right;\n",
              "    }\n",
              "</style>\n",
              "<table border=\"1\" class=\"dataframe\">\n",
              "  <thead>\n",
              "    <tr style=\"text-align: right;\">\n",
              "      <th></th>\n",
              "      <th>id</th>\n",
              "      <th>text</th>\n",
              "      <th>asal_pempek</th>\n",
              "      <th>url</th>\n",
              "      <th>jumlah_resep</th>\n",
              "    </tr>\n",
              "  </thead>\n",
              "  <tbody>\n",
              "    <tr>\n",
              "      <th>0</th>\n",
              "      <td>1</td>\n",
              "      <td>resep pempek palembang 1 pempek palembang teng...</td>\n",
              "      <td>Palembang</td>\n",
              "      <td>https://www.viva.co.id/gaya-hidup/kuliner/1485...</td>\n",
              "      <td>5</td>\n",
              "    </tr>\n",
              "    <tr>\n",
              "      <th>1</th>\n",
              "      <td>2</td>\n",
              "      <td>resep pempek bangka cuko merah 250 gram tenggi...</td>\n",
              "      <td>Bangka</td>\n",
              "      <td>https://www.merdeka.com/gaya/resep-pempek-rebu...</td>\n",
              "      <td>1</td>\n",
              "    </tr>\n",
              "    <tr>\n",
              "      <th>2</th>\n",
              "      <td>3</td>\n",
              "      <td>pempek bangka 500 tenggiri 380 air 450 sagu ta...</td>\n",
              "      <td>Bangka</td>\n",
              "      <td>https://cookpad.com/id/resep/12352974-pempek-b...</td>\n",
              "      <td>1</td>\n",
              "    </tr>\n",
              "    <tr>\n",
              "      <th>3</th>\n",
              "      <td>4</td>\n",
              "      <td>pempek udang khas bangka baso udang lihat rese...</td>\n",
              "      <td>Bangka</td>\n",
              "      <td>https://cookpad.com/id/resep/16039341-pempek-u...</td>\n",
              "      <td>1</td>\n",
              "    </tr>\n",
              "    <tr>\n",
              "      <th>4</th>\n",
              "      <td>5</td>\n",
              "      <td>pempek bangka 1 2 kakap 300 sagu tani 1 telur ...</td>\n",
              "      <td>Bangka</td>\n",
              "      <td>https://cookpad.com/id/resep/15540162-pempek-b...</td>\n",
              "      <td>1</td>\n",
              "    </tr>\n",
              "    <tr>\n",
              "      <th>5</th>\n",
              "      <td>6</td>\n",
              "      <td>pempek bangka 0 5 tenggiri 300 gram sagu air 1...</td>\n",
              "      <td>Bangka</td>\n",
              "      <td>https://cookpad.com/id/resep/15363024-pempek-b...</td>\n",
              "      <td>1</td>\n",
              "    </tr>\n",
              "    <tr>\n",
              "      <th>6</th>\n",
              "      <td>7</td>\n",
              "      <td>13 pempek sambal khas jambi pempek 100 sagu 10...</td>\n",
              "      <td>Jambi</td>\n",
              "      <td>https://cookpad.com/id/resep/16152345-13-pempe...</td>\n",
              "      <td>1</td>\n",
              "    </tr>\n",
              "    <tr>\n",
              "      <th>7</th>\n",
              "      <td>8</td>\n",
              "      <td>pempek sambal khas jambi pempek 100 sagu 100 t...</td>\n",
              "      <td>Jambi</td>\n",
              "      <td>https://cookpad.com/id/resep/13193015-pempek-s...</td>\n",
              "      <td>1</td>\n",
              "    </tr>\n",
              "    <tr>\n",
              "      <th>8</th>\n",
              "      <td>9</td>\n",
              "      <td>41 pempek sambal khas jambi biang 100 teoung t...</td>\n",
              "      <td>Jambi</td>\n",
              "      <td>https://cookpad.com/id/resep/12947116-41-pempe...</td>\n",
              "      <td>1</td>\n",
              "    </tr>\n",
              "    <tr>\n",
              "      <th>9</th>\n",
              "      <td>10</td>\n",
              "      <td>pempek sambal khas jambi 100 terigu 100 tapiok...</td>\n",
              "      <td>Jambi</td>\n",
              "      <td>https://cookpad.com/id/resep/12382660-pempek-s...</td>\n",
              "      <td>1</td>\n",
              "    </tr>\n",
              "    <tr>\n",
              "      <th>10</th>\n",
              "      <td>11</td>\n",
              "      <td>pempek sambal khas jambi 250 terigu 250 sagu 2...</td>\n",
              "      <td>Jambi</td>\n",
              "      <td>https://cookpad.com/id/resep/5278752-pempek-sa...</td>\n",
              "      <td>1</td>\n",
              "    </tr>\n",
              "  </tbody>\n",
              "</table>\n",
              "</div>\n",
              "      <button class=\"colab-df-convert\" onclick=\"convertToInteractive('df-646ac697-5834-4e8b-8dfd-e729fb890a3a')\"\n",
              "              title=\"Convert this dataframe to an interactive table.\"\n",
              "              style=\"display:none;\">\n",
              "        \n",
              "  <svg xmlns=\"http://www.w3.org/2000/svg\" height=\"24px\"viewBox=\"0 0 24 24\"\n",
              "       width=\"24px\">\n",
              "    <path d=\"M0 0h24v24H0V0z\" fill=\"none\"/>\n",
              "    <path d=\"M18.56 5.44l.94 2.06.94-2.06 2.06-.94-2.06-.94-.94-2.06-.94 2.06-2.06.94zm-11 1L8.5 8.5l.94-2.06 2.06-.94-2.06-.94L8.5 2.5l-.94 2.06-2.06.94zm10 10l.94 2.06.94-2.06 2.06-.94-2.06-.94-.94-2.06-.94 2.06-2.06.94z\"/><path d=\"M17.41 7.96l-1.37-1.37c-.4-.4-.92-.59-1.43-.59-.52 0-1.04.2-1.43.59L10.3 9.45l-7.72 7.72c-.78.78-.78 2.05 0 2.83L4 21.41c.39.39.9.59 1.41.59.51 0 1.02-.2 1.41-.59l7.78-7.78 2.81-2.81c.8-.78.8-2.07 0-2.86zM5.41 20L4 18.59l7.72-7.72 1.47 1.35L5.41 20z\"/>\n",
              "  </svg>\n",
              "      </button>\n",
              "      \n",
              "  <style>\n",
              "    .colab-df-container {\n",
              "      display:flex;\n",
              "      flex-wrap:wrap;\n",
              "      gap: 12px;\n",
              "    }\n",
              "\n",
              "    .colab-df-convert {\n",
              "      background-color: #E8F0FE;\n",
              "      border: none;\n",
              "      border-radius: 50%;\n",
              "      cursor: pointer;\n",
              "      display: none;\n",
              "      fill: #1967D2;\n",
              "      height: 32px;\n",
              "      padding: 0 0 0 0;\n",
              "      width: 32px;\n",
              "    }\n",
              "\n",
              "    .colab-df-convert:hover {\n",
              "      background-color: #E2EBFA;\n",
              "      box-shadow: 0px 1px 2px rgba(60, 64, 67, 0.3), 0px 1px 3px 1px rgba(60, 64, 67, 0.15);\n",
              "      fill: #174EA6;\n",
              "    }\n",
              "\n",
              "    [theme=dark] .colab-df-convert {\n",
              "      background-color: #3B4455;\n",
              "      fill: #D2E3FC;\n",
              "    }\n",
              "\n",
              "    [theme=dark] .colab-df-convert:hover {\n",
              "      background-color: #434B5C;\n",
              "      box-shadow: 0px 1px 3px 1px rgba(0, 0, 0, 0.15);\n",
              "      filter: drop-shadow(0px 1px 2px rgba(0, 0, 0, 0.3));\n",
              "      fill: #FFFFFF;\n",
              "    }\n",
              "  </style>\n",
              "\n",
              "      <script>\n",
              "        const buttonEl =\n",
              "          document.querySelector('#df-646ac697-5834-4e8b-8dfd-e729fb890a3a button.colab-df-convert');\n",
              "        buttonEl.style.display =\n",
              "          google.colab.kernel.accessAllowed ? 'block' : 'none';\n",
              "\n",
              "        async function convertToInteractive(key) {\n",
              "          const element = document.querySelector('#df-646ac697-5834-4e8b-8dfd-e729fb890a3a');\n",
              "          const dataTable =\n",
              "            await google.colab.kernel.invokeFunction('convertToInteractive',\n",
              "                                                     [key], {});\n",
              "          if (!dataTable) return;\n",
              "\n",
              "          const docLinkHtml = 'Like what you see? Visit the ' +\n",
              "            '<a target=\"_blank\" href=https://colab.research.google.com/notebooks/data_table.ipynb>data table notebook</a>'\n",
              "            + ' to learn more about interactive tables.';\n",
              "          element.innerHTML = '';\n",
              "          dataTable['output_type'] = 'display_data';\n",
              "          await google.colab.output.renderOutput(dataTable, element);\n",
              "          const docLink = document.createElement('div');\n",
              "          docLink.innerHTML = docLinkHtml;\n",
              "          element.appendChild(docLink);\n",
              "        }\n",
              "      </script>\n",
              "    </div>\n",
              "  </div>\n",
              "  "
            ]
          },
          "metadata": {},
          "execution_count": 189
        }
      ],
      "source": [
        "data['text'] = data['text'].apply(stemming)\n",
        "data"
      ]
    },
    {
      "cell_type": "markdown",
      "metadata": {
        "id": "D6nS1vUj2VmB"
      },
      "source": [
        "## **Top words after stemming operation**"
      ]
    },
    {
      "cell_type": "markdown",
      "metadata": {
        "id": "TGt6BoT82VmC"
      },
      "source": [
        "**Collect vocabulary count using TF-IDF Vectorizer**\n",
        "\n",
        "tf-idf weight is product of two terms: the first term is the normalized Term Frequency (TF), aka. the number of times a word appears in a document, divided by the total number of words in that document; the second term is the Inverse Document Frequency (IDF), computed as the logarithm of the number of the documents in the corpus divided by the number of documents where the specific term appears.\n",
        "\n",
        "TF(t) = 1 + log[ (Number of times term t appears in a document) / (Total number of terms in the document) ].\n",
        "\n",
        "IDF(t) = log_e(Total number of documents / Number of documents with term t in it)."
      ]
    },
    {
      "cell_type": "code",
      "execution_count": null,
      "metadata": {
        "_cell_guid": "e7cc96d8-20a4-4f8d-97d1-de69bd7981a3",
        "_uuid": "9135efbc2f7d23479d16480b4f0960a52d20cc00",
        "collapsed": true,
        "colab": {
          "base_uri": "https://localhost:8080/"
        },
        "id": "S2EPB0k12VmC",
        "outputId": "2126f695-d623-4558-ba65-5d0c2db67ea3"
      },
      "outputs": [
        {
          "output_type": "stream",
          "name": "stderr",
          "text": [
            "/usr/local/lib/python3.7/dist-packages/sklearn/feature_extraction/text.py:401: UserWarning: Your stop_words may be inconsistent with your preprocessing. Tokenizing the stop words generated tokens ['baiknya', 'berkali', 'kali', 'kurangnya', 'mata', 'olah', 'sekurang', 'setidak', 'tama', 'tidaknya'] not in stop_words.\n",
            "  % sorted(inconsistent)\n"
          ]
        }
      ],
      "source": [
        "# FITTING TF-IDF VECTORIZER FULLY TO ALL TEXTS\n",
        "\n",
        "# create the object of tfid vectorizer\n",
        "tfid_vectorizer = TfidfVectorizer(stop_words=sw_new, sublinear_tf=True)\n",
        "# fit the vectorizer using the text data\n",
        "tfid_vectorizer.fit(data['text'])\n",
        "# collect the vocabulary items used in the vectorizer\n",
        "dictionary = tfid_vectorizer.vocabulary_.items()"
      ]
    },
    {
      "cell_type": "code",
      "source": [
        "# FITTING TF-IDF VECTORIZER TO EACH RECIPE SEPARATELY\n",
        "\n",
        "tfid_vectorizer.fit(data['text'].loc[data['asal_pempek']=='Jambi'])\n",
        "dictionary_jambi = tfid_vectorizer.vocabulary_.items()\n",
        "\n",
        "tfid_vectorizer.fit(data['text'].loc[data['asal_pempek']=='Palembang'])\n",
        "dictionary_palemb = tfid_vectorizer.vocabulary_.items()\n",
        "\n",
        "tfid_vectorizer.fit(data['text'].loc[data['asal_pempek']=='Bangka'])\n",
        "dictionary_bangka = tfid_vectorizer.vocabulary_.items()"
      ],
      "metadata": {
        "id": "wAXcd9Y5FOyU"
      },
      "execution_count": null,
      "outputs": []
    },
    {
      "cell_type": "markdown",
      "source": [
        "Store the vocab and tfidfcounts in a pandas dataframe"
      ],
      "metadata": {
        "id": "BICGP3rOLLOD"
      }
    },
    {
      "cell_type": "code",
      "source": [
        "# DICTIONARY FULL / ALL TEXTS\n",
        "\n",
        "# lists to store the vocab and counts\n",
        "vocab = []\n",
        "count = []\n",
        "# iterate through each vocab and count append the value to designated lists\n",
        "for key, value in dictionary:\n",
        "    vocab.append(key)\n",
        "    count.append(value)\n",
        "# store the count in panadas dataframe with vocab as index\n",
        "vocab_after_stem = pd.Series(count, index=vocab)\n",
        "# sort the dataframe\n",
        "vocab_after_stem = vocab_after_stem.sort_values(ascending=False)\n",
        "# plot of the top vocab\n",
        "top_vacab = vocab_after_stem.head(20)"
      ],
      "metadata": {
        "id": "TeSxY02jGArj"
      },
      "execution_count": null,
      "outputs": []
    },
    {
      "cell_type": "code",
      "source": [
        "# DICTIONARY JAMBI\n",
        "\n",
        "# lists to store the vocab and counts\n",
        "vocab_jambi = []\n",
        "count_jambi = []\n",
        "# iterate through each vocab and count append the value to designated lists\n",
        "for key, value in dictionary_jambi:\n",
        "    vocab_jambi.append(key)\n",
        "    count_jambi.append(value)\n",
        "# store the count in panadas dataframe with vocab as index\n",
        "vocab_jambi_after_stem = pd.Series(count_jambi, index=vocab_jambi)\n",
        "# sort the dataframe\n",
        "vocab_jambi_after_stem = vocab_jambi_after_stem.sort_values(ascending=False)\n",
        "\n",
        "\n",
        "# DICTIONARY PALEMBANG\n",
        "\n",
        "# lists to store the vocab and counts\n",
        "vocab_palemb = []\n",
        "count_palemb = []\n",
        "# iterate through each vocab and count append the value to designated lists\n",
        "for key, value in dictionary_palemb:\n",
        "    vocab_palemb.append(key)\n",
        "    count_palemb.append(value)\n",
        "# store the count in panadas dataframe with vocab as index\n",
        "vocab_palemb_after_stem = pd.Series(count_palemb, index=vocab_palemb)\n",
        "# sort the dataframe\n",
        "vocab_palemb_after_stem = vocab_palemb_after_stem.sort_values(ascending=False)\n",
        "\n",
        "\n",
        "# DICTIONARY BANGKA\n",
        "\n",
        "# lists to store the vocab and counts\n",
        "vocab_bangka = []\n",
        "count_bangka = []\n",
        "# iterate through each vocab and count append the value to designated lists\n",
        "for key, value in dictionary_bangka:\n",
        "    vocab_bangka.append(key)\n",
        "    count_bangka.append(value)\n",
        "# store the count in panadas dataframe with vocab as index\n",
        "vocab_bangka_after_stem = pd.Series(count_bangka, index=vocab_bangka)\n",
        "# sort the dataframe\n",
        "vocab_bangka_after_stem = vocab_bangka_after_stem.sort_values(ascending=False)"
      ],
      "metadata": {
        "id": "UqrfHyI0Fji3"
      },
      "execution_count": null,
      "outputs": []
    },
    {
      "cell_type": "markdown",
      "metadata": {
        "id": "uDIk0O6X2VmC"
      },
      "source": [
        "**Bar plot of top words after stemming**"
      ]
    },
    {
      "cell_type": "code",
      "execution_count": null,
      "metadata": {
        "_cell_guid": "a8422280-9502-4551-8d67-038acd330c42",
        "_uuid": "caa0a0876ba968cfa73b296f67adaf31de0d8e73",
        "colab": {
          "base_uri": "https://localhost:8080/",
          "height": 591
        },
        "id": "3wLgR-112VmD",
        "outputId": "f5bcb108-c321-4911-b79d-ed16489205e8"
      },
      "outputs": [
        {
          "output_type": "display_data",
          "data": {
            "text/plain": [
              "<Figure size 360x720 with 1 Axes>"
            ],
            "image/png": "[encoded data removed]"
          },
          "metadata": {
            "image/png": {
              "width": 342,
              "height": 574
            },
            "needs_background": "light"
          }
        }
      ],
      "source": [
        "# TOP WORDS AFTER STEMMING from ALL TEXTS\n",
        "\n",
        "plt.figure(figsize=(20,8))\n",
        "top_vacab.plot(kind = 'barh', figsize=(5,10))\n",
        "plt.show()"
      ]
    },
    {
      "cell_type": "code",
      "source": [
        "# TOP WORDS AFTER STEMMING for EACH RECIPE\n",
        "\n",
        "top_vocab_jambi = vocab_jambi_after_stem.head(20)\n",
        "plt.subplot(1,5,1).title.set_text('Pempek Jambi')\n",
        "top_vocab_jambi.plot(kind = 'barh', figsize=(10,10))\n",
        "\n",
        "top_vocab_palemb = vocab_palemb_after_stem.head(20)\n",
        "plt.subplot(1,5,3).title.set_text('Pempek Palembang')\n",
        "top_vocab_palemb.plot(kind = 'barh', figsize=(10,10))\n",
        "\n",
        "top_vocab_bangka = vocab_bangka_after_stem.head(20)\n",
        "plt.subplot(1,5,5).title.set_text('Pempek Bangka')\n",
        "top_vocab_bangka.plot(kind = 'barh', figsize=(10,10))\n",
        "\n",
        "plt.show()"
      ],
      "metadata": {
        "colab": {
          "base_uri": "https://localhost:8080/",
          "height": 607
        },
        "id": "KjecAIOnGKSK",
        "outputId": "1c29ac87-224a-4db7-bbc0-3c2542e1e690"
      },
      "execution_count": null,
      "outputs": [
        {
          "output_type": "display_data",
          "data": {
            "text/plain": [
              "<Figure size 720x720 with 3 Axes>"
            ],
            "image/png": "[encoded data removed]"
          },
          "metadata": {
            "image/png": {
              "width": 616,
              "height": 590
            },
            "needs_background": "light"
          }
        }
      ]
    },
    {
      "cell_type": "markdown",
      "source": [
        "## **TF-IDF Extraction**"
      ],
      "metadata": {
        "id": "JktoWabIwzhQ"
      }
    },
    {
      "cell_type": "markdown",
      "source": [
        "tf-idf weight is product of two terms: the first term is the normalized Term Frequency (TF), aka. the number of times a word appears in a document, divided by the total number of words in that document; the second term is the Inverse Document Frequency (IDF), computed as the logarithm of the number of the documents in the corpus divided by the number of documents where the specific term appears.\n",
        "\n",
        "TF(t) = (Number of times term t appears in a document) / (Total number of terms in the document).\n",
        "\n",
        "IDF(t) = log_e(Total number of documents / Number of documents with term t in it)."
      ],
      "metadata": {
        "id": "sv4widXkw5GH"
      }
    },
    {
      "cell_type": "code",
      "source": [
        "# extract the tfid representation matrix of the text data\n",
        "tfid_matrix = tfid_vectorizer.transform(data['text'])\n",
        "# collect the tfid matrix in numpy array\n",
        "array = tfid_matrix.todense()"
      ],
      "metadata": {
        "id": "C_i8IvsstG94"
      },
      "execution_count": null,
      "outputs": []
    },
    {
      "cell_type": "code",
      "source": [
        "# store the tf-idf array into pandas dataframe\n",
        "df = pd.DataFrame(array)\n",
        "df.head(10)"
      ],
      "metadata": {
        "colab": {
          "base_uri": "https://localhost:8080/",
          "height": 456
        },
        "id": "BbhBhQc9w7-F",
        "outputId": "b0bfcc98-ab54-469f-da9c-86a5225a2750"
      },
      "execution_count": null,
      "outputs": [
        {
          "output_type": "execute_result",
          "data": {
            "text/plain": [
              "        0         1         2         3         4         5         6    \\\n",
              "0  0.116208  0.000000  0.000000  0.277306  0.158742  0.000000  0.000000   \n",
              "1  0.000000  0.000000  0.000000  0.000000  0.337151  0.000000  0.000000   \n",
              "2  0.000000  0.000000  0.000000  0.000000  0.311523  0.000000  0.000000   \n",
              "3  0.000000  0.000000  0.000000  0.000000  0.000000  0.000000  0.000000   \n",
              "4  0.000000  0.000000  0.000000  0.000000  0.000000  0.367001  0.367001   \n",
              "5  0.227881  0.227881  0.227881  0.227881  0.000000  0.000000  0.000000   \n",
              "6  0.509984  0.000000  0.000000  0.000000  0.000000  0.000000  0.000000   \n",
              "7  0.457303  0.000000  0.000000  0.270090  0.000000  0.000000  0.000000   \n",
              "8  0.298932  0.000000  0.000000  0.000000  0.000000  0.000000  0.000000   \n",
              "9  0.300414  0.000000  0.000000  0.000000  0.000000  0.000000  0.000000   \n",
              "\n",
              "        7    8         9    ...  102       103  104       105  106  107  108  \\\n",
              "0  0.243875  0.0  0.192972  ...  0.0  0.357856  0.0  0.163326  0.0  0.0  0.0   \n",
              "1  0.000000  0.0  0.199127  ...  0.0  0.000000  0.0  0.279866  0.0  0.0  0.0   \n",
              "2  0.000000  0.0  0.183990  ...  0.0  0.000000  0.0  0.000000  0.0  0.0  0.0   \n",
              "3  0.000000  0.0  0.251694  ...  0.0  0.000000  0.0  0.000000  0.0  0.0  0.0   \n",
              "4  0.367001  0.0  0.296094  ...  0.0  0.000000  0.0  0.245785  0.0  0.0  0.0   \n",
              "5  0.000000  0.0  0.227881  ...  0.0  0.000000  0.0  0.152615  0.0  0.0  0.0   \n",
              "6  0.000000  0.0  0.243010  ...  0.0  0.000000  0.0  0.000000  0.0  0.0  0.0   \n",
              "7  0.000000  0.0  0.128700  ...  0.0  0.000000  0.0  0.000000  0.0  0.0  0.0   \n",
              "8  0.000000  0.0  0.142443  ...  0.0  0.000000  0.0  0.000000  0.0  0.0  0.0   \n",
              "9  0.000000  0.0  0.143149  ...  0.0  0.000000  0.0  0.000000  0.0  0.0  0.0   \n",
              "\n",
              "   109       110  111  \n",
              "0  0.0  0.000000  0.0  \n",
              "1  0.0  0.000000  0.0  \n",
              "2  0.0  0.000000  0.0  \n",
              "3  0.0  0.311968  0.0  \n",
              "4  0.0  0.000000  0.0  \n",
              "5  0.0  0.000000  0.0  \n",
              "6  0.0  0.000000  0.0  \n",
              "7  0.0  0.000000  0.0  \n",
              "8  0.0  0.000000  0.0  \n",
              "9  0.0  0.000000  0.0  \n",
              "\n",
              "[10 rows x 112 columns]"
            ],
            "text/html": [
              "\n",
              "  <div id=\"df-19af2802-b683-40cc-8484-19a055a35890\">\n",
              "    <div class=\"colab-df-container\">\n",
              "      <div>\n",
              "<style scoped>\n",
              "    .dataframe tbody tr th:only-of-type {\n",
              "        vertical-align: middle;\n",
              "    }\n",
              "\n",
              "    .dataframe tbody tr th {\n",
              "        vertical-align: top;\n",
              "    }\n",
              "\n",
              "    .dataframe thead th {\n",
              "        text-align: right;\n",
              "    }\n",
              "</style>\n",
              "<table border=\"1\" class=\"dataframe\">\n",
              "  <thead>\n",
              "    <tr style=\"text-align: right;\">\n",
              "      <th></th>\n",
              "      <th>0</th>\n",
              "      <th>1</th>\n",
              "      <th>2</th>\n",
              "      <th>3</th>\n",
              "      <th>4</th>\n",
              "      <th>5</th>\n",
              "      <th>6</th>\n",
              "      <th>7</th>\n",
              "      <th>8</th>\n",
              "      <th>9</th>\n",
              "      <th>...</th>\n",
              "      <th>102</th>\n",
              "      <th>103</th>\n",
              "      <th>104</th>\n",
              "      <th>105</th>\n",
              "      <th>106</th>\n",
              "      <th>107</th>\n",
              "      <th>108</th>\n",
              "      <th>109</th>\n",
              "      <th>110</th>\n",
              "      <th>111</th>\n",
              "    </tr>\n",
              "  </thead>\n",
              "  <tbody>\n",
              "    <tr>\n",
              "      <th>0</th>\n",
              "      <td>0.116208</td>\n",
              "      <td>0.000000</td>\n",
              "      <td>0.000000</td>\n",
              "      <td>0.277306</td>\n",
              "      <td>0.158742</td>\n",
              "      <td>0.000000</td>\n",
              "      <td>0.000000</td>\n",
              "      <td>0.243875</td>\n",
              "      <td>0.0</td>\n",
              "      <td>0.192972</td>\n",
              "      <td>...</td>\n",
              "      <td>0.0</td>\n",
              "      <td>0.357856</td>\n",
              "      <td>0.0</td>\n",
              "      <td>0.163326</td>\n",
              "      <td>0.0</td>\n",
              "      <td>0.0</td>\n",
              "      <td>0.0</td>\n",
              "      <td>0.0</td>\n",
              "      <td>0.000000</td>\n",
              "      <td>0.0</td>\n",
              "    </tr>\n",
              "    <tr>\n",
              "      <th>1</th>\n",
              "      <td>0.000000</td>\n",
              "      <td>0.000000</td>\n",
              "      <td>0.000000</td>\n",
              "      <td>0.000000</td>\n",
              "      <td>0.337151</td>\n",
              "      <td>0.000000</td>\n",
              "      <td>0.000000</td>\n",
              "      <td>0.000000</td>\n",
              "      <td>0.0</td>\n",
              "      <td>0.199127</td>\n",
              "      <td>...</td>\n",
              "      <td>0.0</td>\n",
              "      <td>0.000000</td>\n",
              "      <td>0.0</td>\n",
              "      <td>0.279866</td>\n",
              "      <td>0.0</td>\n",
              "      <td>0.0</td>\n",
              "      <td>0.0</td>\n",
              "      <td>0.0</td>\n",
              "      <td>0.000000</td>\n",
              "      <td>0.0</td>\n",
              "    </tr>\n",
              "    <tr>\n",
              "      <th>2</th>\n",
              "      <td>0.000000</td>\n",
              "      <td>0.000000</td>\n",
              "      <td>0.000000</td>\n",
              "      <td>0.000000</td>\n",
              "      <td>0.311523</td>\n",
              "      <td>0.000000</td>\n",
              "      <td>0.000000</td>\n",
              "      <td>0.000000</td>\n",
              "      <td>0.0</td>\n",
              "      <td>0.183990</td>\n",
              "      <td>...</td>\n",
              "      <td>0.0</td>\n",
              "      <td>0.000000</td>\n",
              "      <td>0.0</td>\n",
              "      <td>0.000000</td>\n",
              "      <td>0.0</td>\n",
              "      <td>0.0</td>\n",
              "      <td>0.0</td>\n",
              "      <td>0.0</td>\n",
              "      <td>0.000000</td>\n",
              "      <td>0.0</td>\n",
              "    </tr>\n",
              "    <tr>\n",
              "      <th>3</th>\n",
              "      <td>0.000000</td>\n",
              "      <td>0.000000</td>\n",
              "      <td>0.000000</td>\n",
              "      <td>0.000000</td>\n",
              "      <td>0.000000</td>\n",
              "      <td>0.000000</td>\n",
              "      <td>0.000000</td>\n",
              "      <td>0.000000</td>\n",
              "      <td>0.0</td>\n",
              "      <td>0.251694</td>\n",
              "      <td>...</td>\n",
              "      <td>0.0</td>\n",
              "      <td>0.000000</td>\n",
              "      <td>0.0</td>\n",
              "      <td>0.000000</td>\n",
              "      <td>0.0</td>\n",
              "      <td>0.0</td>\n",
              "      <td>0.0</td>\n",
              "      <td>0.0</td>\n",
              "      <td>0.311968</td>\n",
              "      <td>0.0</td>\n",
              "    </tr>\n",
              "    <tr>\n",
              "      <th>4</th>\n",
              "      <td>0.000000</td>\n",
              "      <td>0.000000</td>\n",
              "      <td>0.000000</td>\n",
              "      <td>0.000000</td>\n",
              "      <td>0.000000</td>\n",
              "      <td>0.367001</td>\n",
              "      <td>0.367001</td>\n",
              "      <td>0.367001</td>\n",
              "      <td>0.0</td>\n",
              "      <td>0.296094</td>\n",
              "      <td>...</td>\n",
              "      <td>0.0</td>\n",
              "      <td>0.000000</td>\n",
              "      <td>0.0</td>\n",
              "      <td>0.245785</td>\n",
              "      <td>0.0</td>\n",
              "      <td>0.0</td>\n",
              "      <td>0.0</td>\n",
              "      <td>0.0</td>\n",
              "      <td>0.000000</td>\n",
              "      <td>0.0</td>\n",
              "    </tr>\n",
              "    <tr>\n",
              "      <th>5</th>\n",
              "      <td>0.227881</td>\n",
              "      <td>0.227881</td>\n",
              "      <td>0.227881</td>\n",
              "      <td>0.227881</td>\n",
              "      <td>0.000000</td>\n",
              "      <td>0.000000</td>\n",
              "      <td>0.000000</td>\n",
              "      <td>0.000000</td>\n",
              "      <td>0.0</td>\n",
              "      <td>0.227881</td>\n",
              "      <td>...</td>\n",
              "      <td>0.0</td>\n",
              "      <td>0.000000</td>\n",
              "      <td>0.0</td>\n",
              "      <td>0.152615</td>\n",
              "      <td>0.0</td>\n",
              "      <td>0.0</td>\n",
              "      <td>0.0</td>\n",
              "      <td>0.0</td>\n",
              "      <td>0.000000</td>\n",
              "      <td>0.0</td>\n",
              "    </tr>\n",
              "    <tr>\n",
              "      <th>6</th>\n",
              "      <td>0.509984</td>\n",
              "      <td>0.000000</td>\n",
              "      <td>0.000000</td>\n",
              "      <td>0.000000</td>\n",
              "      <td>0.000000</td>\n",
              "      <td>0.000000</td>\n",
              "      <td>0.000000</td>\n",
              "      <td>0.000000</td>\n",
              "      <td>0.0</td>\n",
              "      <td>0.243010</td>\n",
              "      <td>...</td>\n",
              "      <td>0.0</td>\n",
              "      <td>0.000000</td>\n",
              "      <td>0.0</td>\n",
              "      <td>0.000000</td>\n",
              "      <td>0.0</td>\n",
              "      <td>0.0</td>\n",
              "      <td>0.0</td>\n",
              "      <td>0.0</td>\n",
              "      <td>0.000000</td>\n",
              "      <td>0.0</td>\n",
              "    </tr>\n",
              "    <tr>\n",
              "      <th>7</th>\n",
              "      <td>0.457303</td>\n",
              "      <td>0.000000</td>\n",
              "      <td>0.000000</td>\n",
              "      <td>0.270090</td>\n",
              "      <td>0.000000</td>\n",
              "      <td>0.000000</td>\n",
              "      <td>0.000000</td>\n",
              "      <td>0.000000</td>\n",
              "      <td>0.0</td>\n",
              "      <td>0.128700</td>\n",
              "      <td>...</td>\n",
              "      <td>0.0</td>\n",
              "      <td>0.000000</td>\n",
              "      <td>0.0</td>\n",
              "      <td>0.000000</td>\n",
              "      <td>0.0</td>\n",
              "      <td>0.0</td>\n",
              "      <td>0.0</td>\n",
              "      <td>0.0</td>\n",
              "      <td>0.000000</td>\n",
              "      <td>0.0</td>\n",
              "    </tr>\n",
              "    <tr>\n",
              "      <th>8</th>\n",
              "      <td>0.298932</td>\n",
              "      <td>0.000000</td>\n",
              "      <td>0.000000</td>\n",
              "      <td>0.000000</td>\n",
              "      <td>0.000000</td>\n",
              "      <td>0.000000</td>\n",
              "      <td>0.000000</td>\n",
              "      <td>0.000000</td>\n",
              "      <td>0.0</td>\n",
              "      <td>0.142443</td>\n",
              "      <td>...</td>\n",
              "      <td>0.0</td>\n",
              "      <td>0.000000</td>\n",
              "      <td>0.0</td>\n",
              "      <td>0.000000</td>\n",
              "      <td>0.0</td>\n",
              "      <td>0.0</td>\n",
              "      <td>0.0</td>\n",
              "      <td>0.0</td>\n",
              "      <td>0.000000</td>\n",
              "      <td>0.0</td>\n",
              "    </tr>\n",
              "    <tr>\n",
              "      <th>9</th>\n",
              "      <td>0.300414</td>\n",
              "      <td>0.000000</td>\n",
              "      <td>0.000000</td>\n",
              "      <td>0.000000</td>\n",
              "      <td>0.000000</td>\n",
              "      <td>0.000000</td>\n",
              "      <td>0.000000</td>\n",
              "      <td>0.000000</td>\n",
              "      <td>0.0</td>\n",
              "      <td>0.143149</td>\n",
              "      <td>...</td>\n",
              "      <td>0.0</td>\n",
              "      <td>0.000000</td>\n",
              "      <td>0.0</td>\n",
              "      <td>0.000000</td>\n",
              "      <td>0.0</td>\n",
              "      <td>0.0</td>\n",
              "      <td>0.0</td>\n",
              "      <td>0.0</td>\n",
              "      <td>0.000000</td>\n",
              "      <td>0.0</td>\n",
              "    </tr>\n",
              "  </tbody>\n",
              "</table>\n",
              "<p>10 rows × 112 columns</p>\n",
              "</div>\n",
              "      <button class=\"colab-df-convert\" onclick=\"convertToInteractive('df-19af2802-b683-40cc-8484-19a055a35890')\"\n",
              "              title=\"Convert this dataframe to an interactive table.\"\n",
              "              style=\"display:none;\">\n",
              "        \n",
              "  <svg xmlns=\"http://www.w3.org/2000/svg\" height=\"24px\"viewBox=\"0 0 24 24\"\n",
              "       width=\"24px\">\n",
              "    <path d=\"M0 0h24v24H0V0z\" fill=\"none\"/>\n",
              "    <path d=\"M18.56 5.44l.94 2.06.94-2.06 2.06-.94-2.06-.94-.94-2.06-.94 2.06-2.06.94zm-11 1L8.5 8.5l.94-2.06 2.06-.94-2.06-.94L8.5 2.5l-.94 2.06-2.06.94zm10 10l.94 2.06.94-2.06 2.06-.94-2.06-.94-.94-2.06-.94 2.06-2.06.94z\"/><path d=\"M17.41 7.96l-1.37-1.37c-.4-.4-.92-.59-1.43-.59-.52 0-1.04.2-1.43.59L10.3 9.45l-7.72 7.72c-.78.78-.78 2.05 0 2.83L4 21.41c.39.39.9.59 1.41.59.51 0 1.02-.2 1.41-.59l7.78-7.78 2.81-2.81c.8-.78.8-2.07 0-2.86zM5.41 20L4 18.59l7.72-7.72 1.47 1.35L5.41 20z\"/>\n",
              "  </svg>\n",
              "      </button>\n",
              "      \n",
              "  <style>\n",
              "    .colab-df-container {\n",
              "      display:flex;\n",
              "      flex-wrap:wrap;\n",
              "      gap: 12px;\n",
              "    }\n",
              "\n",
              "    .colab-df-convert {\n",
              "      background-color: #E8F0FE;\n",
              "      border: none;\n",
              "      border-radius: 50%;\n",
              "      cursor: pointer;\n",
              "      display: none;\n",
              "      fill: #1967D2;\n",
              "      height: 32px;\n",
              "      padding: 0 0 0 0;\n",
              "      width: 32px;\n",
              "    }\n",
              "\n",
              "    .colab-df-convert:hover {\n",
              "      background-color: #E2EBFA;\n",
              "      box-shadow: 0px 1px 2px rgba(60, 64, 67, 0.3), 0px 1px 3px 1px rgba(60, 64, 67, 0.15);\n",
              "      fill: #174EA6;\n",
              "    }\n",
              "\n",
              "    [theme=dark] .colab-df-convert {\n",
              "      background-color: #3B4455;\n",
              "      fill: #D2E3FC;\n",
              "    }\n",
              "\n",
              "    [theme=dark] .colab-df-convert:hover {\n",
              "      background-color: #434B5C;\n",
              "      box-shadow: 0px 1px 3px 1px rgba(0, 0, 0, 0.15);\n",
              "      filter: drop-shadow(0px 1px 2px rgba(0, 0, 0, 0.3));\n",
              "      fill: #FFFFFF;\n",
              "    }\n",
              "  </style>\n",
              "\n",
              "      <script>\n",
              "        const buttonEl =\n",
              "          document.querySelector('#df-19af2802-b683-40cc-8484-19a055a35890 button.colab-df-convert');\n",
              "        buttonEl.style.display =\n",
              "          google.colab.kernel.accessAllowed ? 'block' : 'none';\n",
              "\n",
              "        async function convertToInteractive(key) {\n",
              "          const element = document.querySelector('#df-19af2802-b683-40cc-8484-19a055a35890');\n",
              "          const dataTable =\n",
              "            await google.colab.kernel.invokeFunction('convertToInteractive',\n",
              "                                                     [key], {});\n",
              "          if (!dataTable) return;\n",
              "\n",
              "          const docLinkHtml = 'Like what you see? Visit the ' +\n",
              "            '<a target=\"_blank\" href=https://colab.research.google.com/notebooks/data_table.ipynb>data table notebook</a>'\n",
              "            + ' to learn more about interactive tables.';\n",
              "          element.innerHTML = '';\n",
              "          dataTable['output_type'] = 'display_data';\n",
              "          await google.colab.output.renderOutput(dataTable, element);\n",
              "          const docLink = document.createElement('div');\n",
              "          docLink.innerHTML = docLinkHtml;\n",
              "          element.appendChild(docLink);\n",
              "        }\n",
              "      </script>\n",
              "    </div>\n",
              "  </div>\n",
              "  "
            ]
          },
          "metadata": {},
          "execution_count": 220
        }
      ]
    }
  ],
  "metadata": {
    "kernelspec": {
      "display_name": "Python 3",
      "language": "python",
      "name": "python3"
    },
    "language_info": {
      "codemirror_mode": {
        "name": "ipython",
        "version": 3
      },
      "file_extension": ".py",
      "mimetype": "text/x-python",
      "name": "python",
      "nbconvert_exporter": "python",
      "pygments_lexer": "ipython3",
      "version": "3.6.3"
    },
    "colab": {
      "provenance": [],
      "collapsed_sections": [
        "KxFDVMI0wnRT",
        "Aci7QdHS2Vl8",
        "CClJoDck2Vl_",
        "D6nS1vUj2VmB",
        "JktoWabIwzhQ"
      ]
    }
  },
  "nbformat": 4,
  "nbformat_minor": 0
}